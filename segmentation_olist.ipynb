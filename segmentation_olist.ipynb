{
  "nbformat": 4,
  "nbformat_minor": 0,
  "metadata": {
    "colab": {
      "provenance": [],
      "toc_visible": true,
      "authorship_tag": "ABX9TyMucyZzLY1aXh7bpqMdOoof",
      "include_colab_link": true
    },
    "kernelspec": {
      "name": "python3",
      "display_name": "Python 3"
    },
    "language_info": {
      "name": "python"
    }
  },
  "cells": [
    {
      "cell_type": "markdown",
      "metadata": {
        "id": "view-in-github",
        "colab_type": "text"
      },
      "source": [
        "<a href=\"https://colab.research.google.com/github/Bakarime27/app-sante-public/blob/main/segmentation_olist.ipynb\" target=\"_parent\"><img src=\"https://colab.research.google.com/assets/colab-badge.svg\" alt=\"Open In Colab\"/></a>"
      ]
    },
    {
      "cell_type": "markdown",
      "source": [
        "#**Segmentez des clients d'un site e-commerce**\n",
        "Ce projet a pour but d'effectuer une segmentation des clients d'Olist (un site d'e-commerce) afin que ses équipes marketing puissent s'en servir dans leurs campagnes de communication.\n",
        "\n",
        "Notre mission est de comprendre les différents types d'utilisateurs grâce à leur comportement et à leurs données personnelles anonymisées.\n",
        "\n",
        "Nous allons fournir une description actionable de la segmentation et de sa logique sous-jacente pour une utilisation optimale. Nous allons également fournir une analyse de la stabilité des segments au cours du temps afin d'établir un contrat de maintenance.\n"
      ],
      "metadata": {
        "id": "gNmIXjPkS-J9"
      }
    },
    {
      "cell_type": "markdown",
      "source": [
        "### **1.&nbsp;Segmentation avec le dataset rfm**"
      ],
      "metadata": {
        "id": "7F41Bb33ZSg9"
      }
    },
    {
      "cell_type": "markdown",
      "source": [
        "### **1.1.&nbsp;Chargement des données**"
      ],
      "metadata": {
        "id": "LiGiOBTzXZyz"
      }
    },
    {
      "cell_type": "code",
      "execution_count": null,
      "metadata": {
        "colab": {
          "base_uri": "https://localhost:8080/"
        },
        "id": "LYgPeexKSvTN",
        "outputId": "8e335751-35fa-4255-8873-44cbb1afd05d"
      },
      "outputs": [
        {
          "output_type": "stream",
          "name": "stdout",
          "text": [
            "Mounted at /gdrive\n",
            "/gdrive/MyDrive/Datasets\n",
            "2016_Building_Energy_Benchmarking.csv  olist_order_payments_dataset.csv\n",
            "clean-data.csv                         olist_order_reviews_dataset.csv\n",
            "fr.openfoodfacts.org.products.csv      olist_orders_dataset.csv\n",
            "house.csv                              olist_products_dataset.csv\n",
            "olist_customers_dataset.csv            olist-rfm.csv\n",
            "olist-customers-segmentation.csv       olist_sellers_dataset.csv\n",
            "olist_geolocation_dataset.csv          product_category_name_translation.csv\n",
            "olist_order_items_dataset.csv          sea-clean-data.csv\n"
          ]
        }
      ],
      "source": [
        "from google.colab import drive\n",
        "#drive.mount(\"/gdrive\", force_remount=True)\n",
        "#drive.flush_and_unmount()\n",
        "drive.mount('/gdrive')\n",
        "%cd /gdrive/MyDrive/Datasets\n",
        "%ls"
      ]
    },
    {
      "cell_type": "code",
      "source": [
        "import os\n",
        "from time import time\n",
        "import warnings\n",
        "import numpy as np\n",
        "import pandas as pd\n",
        "import matplotlib as mpl\n",
        "import matplotlib.pyplot as plt\n",
        "import seaborn as sns\n",
        "import scipy.stats as sp\n",
        "from datetime import datetime\n",
        "from datetime import timedelta\n",
        "from plotly.offline import download_plotlyjs, init_notebook_mode, iplot\n",
        "import plotly.graph_objs as go\n",
        "from sklearn.preprocessing import StandardScaler, MinMaxScaler\n",
        "from sklearn.compose import ColumnTransformer, make_column_transformer\n",
        "from sklearn.pipeline import Pipeline, make_pipeline\n",
        "from sklearn.decomposition import PCA\n",
        "from sklearn.metrics import homogeneity_score, adjusted_rand_score, adjusted_mutual_info_score\n",
        "\n",
        "# Clustering Librairies import\n",
        "from sklearn.cluster import KMeans\n",
        "from sklearn.cluster import MeanShift, estimate_bandwidth\n",
        "from yellowbrick.cluster import KElbowVisualizer, SilhouetteVisualizer, InterclusterDistance\n",
        "#from kmodes.kprototypes import KPrototypes\n",
        "from math import radians, cos, sin, asin, sqrt"
      ],
      "metadata": {
        "id": "6YLpzuLmXRxO"
      },
      "execution_count": null,
      "outputs": []
    },
    {
      "cell_type": "code",
      "source": [
        "data_rfm = pd.read_csv('olist-rfm.csv', index_col=0)"
      ],
      "metadata": {
        "id": "rRvKddi7YDS3"
      },
      "execution_count": null,
      "outputs": []
    },
    {
      "cell_type": "code",
      "source": [
        "''' data_rfm.drop(['Unnamed: 0'], axis=1, inplace=True) '''"
      ],
      "metadata": {
        "colab": {
          "base_uri": "https://localhost:8080/",
          "height": 36
        },
        "id": "HPvO_KjYZccq",
        "outputId": "e2c3f4cc-26f3-4dc7-d606-1d5927ace3ef"
      },
      "execution_count": null,
      "outputs": [
        {
          "output_type": "execute_result",
          "data": {
            "text/plain": [
              "\" data_rfm.drop(['Unnamed: 0'], axis=1, inplace=True) \""
            ],
            "application/vnd.google.colaboratory.intrinsic+json": {
              "type": "string"
            }
          },
          "metadata": {},
          "execution_count": 5
        }
      ]
    },
    {
      "cell_type": "code",
      "source": [
        "data_rfm.head()"
      ],
      "metadata": {
        "colab": {
          "base_uri": "https://localhost:8080/",
          "height": 206
        },
        "id": "bKTkJGmOYYmS",
        "outputId": "ab824728-9e12-4627-a7e8-784f05ef925e"
      },
      "execution_count": null,
      "outputs": [
        {
          "output_type": "execute_result",
          "data": {
            "text/plain": [
              "                 customer_unique_id  r_score  f_score  m_score\n",
              "0  0000366f3b9a7992bf8c76cfdf3221e2    111.0        1   141.90\n",
              "1  0000b849f77a49e4a4ce2b2a4ca5be3f    114.0        1    27.19\n",
              "2  0000f46a3911fa3c0805444483337064    536.0        1    86.22\n",
              "3  0000f6ccb0745a6a4b88665a16c9f078    320.0        1    43.62\n",
              "4  0004aac84e0df4da2b147fca70cf8255    287.0        1   196.89"
            ],
            "text/html": [
              "\n",
              "  <div id=\"df-8141a18a-b041-4c09-9cba-158befa25ccd\">\n",
              "    <div class=\"colab-df-container\">\n",
              "      <div>\n",
              "<style scoped>\n",
              "    .dataframe tbody tr th:only-of-type {\n",
              "        vertical-align: middle;\n",
              "    }\n",
              "\n",
              "    .dataframe tbody tr th {\n",
              "        vertical-align: top;\n",
              "    }\n",
              "\n",
              "    .dataframe thead th {\n",
              "        text-align: right;\n",
              "    }\n",
              "</style>\n",
              "<table border=\"1\" class=\"dataframe\">\n",
              "  <thead>\n",
              "    <tr style=\"text-align: right;\">\n",
              "      <th></th>\n",
              "      <th>customer_unique_id</th>\n",
              "      <th>r_score</th>\n",
              "      <th>f_score</th>\n",
              "      <th>m_score</th>\n",
              "    </tr>\n",
              "  </thead>\n",
              "  <tbody>\n",
              "    <tr>\n",
              "      <th>0</th>\n",
              "      <td>0000366f3b9a7992bf8c76cfdf3221e2</td>\n",
              "      <td>111.0</td>\n",
              "      <td>1</td>\n",
              "      <td>141.90</td>\n",
              "    </tr>\n",
              "    <tr>\n",
              "      <th>1</th>\n",
              "      <td>0000b849f77a49e4a4ce2b2a4ca5be3f</td>\n",
              "      <td>114.0</td>\n",
              "      <td>1</td>\n",
              "      <td>27.19</td>\n",
              "    </tr>\n",
              "    <tr>\n",
              "      <th>2</th>\n",
              "      <td>0000f46a3911fa3c0805444483337064</td>\n",
              "      <td>536.0</td>\n",
              "      <td>1</td>\n",
              "      <td>86.22</td>\n",
              "    </tr>\n",
              "    <tr>\n",
              "      <th>3</th>\n",
              "      <td>0000f6ccb0745a6a4b88665a16c9f078</td>\n",
              "      <td>320.0</td>\n",
              "      <td>1</td>\n",
              "      <td>43.62</td>\n",
              "    </tr>\n",
              "    <tr>\n",
              "      <th>4</th>\n",
              "      <td>0004aac84e0df4da2b147fca70cf8255</td>\n",
              "      <td>287.0</td>\n",
              "      <td>1</td>\n",
              "      <td>196.89</td>\n",
              "    </tr>\n",
              "  </tbody>\n",
              "</table>\n",
              "</div>\n",
              "      <button class=\"colab-df-convert\" onclick=\"convertToInteractive('df-8141a18a-b041-4c09-9cba-158befa25ccd')\"\n",
              "              title=\"Convert this dataframe to an interactive table.\"\n",
              "              style=\"display:none;\">\n",
              "        \n",
              "  <svg xmlns=\"http://www.w3.org/2000/svg\" height=\"24px\"viewBox=\"0 0 24 24\"\n",
              "       width=\"24px\">\n",
              "    <path d=\"M0 0h24v24H0V0z\" fill=\"none\"/>\n",
              "    <path d=\"M18.56 5.44l.94 2.06.94-2.06 2.06-.94-2.06-.94-.94-2.06-.94 2.06-2.06.94zm-11 1L8.5 8.5l.94-2.06 2.06-.94-2.06-.94L8.5 2.5l-.94 2.06-2.06.94zm10 10l.94 2.06.94-2.06 2.06-.94-2.06-.94-.94-2.06-.94 2.06-2.06.94z\"/><path d=\"M17.41 7.96l-1.37-1.37c-.4-.4-.92-.59-1.43-.59-.52 0-1.04.2-1.43.59L10.3 9.45l-7.72 7.72c-.78.78-.78 2.05 0 2.83L4 21.41c.39.39.9.59 1.41.59.51 0 1.02-.2 1.41-.59l7.78-7.78 2.81-2.81c.8-.78.8-2.07 0-2.86zM5.41 20L4 18.59l7.72-7.72 1.47 1.35L5.41 20z\"/>\n",
              "  </svg>\n",
              "      </button>\n",
              "      \n",
              "  <style>\n",
              "    .colab-df-container {\n",
              "      display:flex;\n",
              "      flex-wrap:wrap;\n",
              "      gap: 12px;\n",
              "    }\n",
              "\n",
              "    .colab-df-convert {\n",
              "      background-color: #E8F0FE;\n",
              "      border: none;\n",
              "      border-radius: 50%;\n",
              "      cursor: pointer;\n",
              "      display: none;\n",
              "      fill: #1967D2;\n",
              "      height: 32px;\n",
              "      padding: 0 0 0 0;\n",
              "      width: 32px;\n",
              "    }\n",
              "\n",
              "    .colab-df-convert:hover {\n",
              "      background-color: #E2EBFA;\n",
              "      box-shadow: 0px 1px 2px rgba(60, 64, 67, 0.3), 0px 1px 3px 1px rgba(60, 64, 67, 0.15);\n",
              "      fill: #174EA6;\n",
              "    }\n",
              "\n",
              "    [theme=dark] .colab-df-convert {\n",
              "      background-color: #3B4455;\n",
              "      fill: #D2E3FC;\n",
              "    }\n",
              "\n",
              "    [theme=dark] .colab-df-convert:hover {\n",
              "      background-color: #434B5C;\n",
              "      box-shadow: 0px 1px 3px 1px rgba(0, 0, 0, 0.15);\n",
              "      filter: drop-shadow(0px 1px 2px rgba(0, 0, 0, 0.3));\n",
              "      fill: #FFFFFF;\n",
              "    }\n",
              "  </style>\n",
              "\n",
              "      <script>\n",
              "        const buttonEl =\n",
              "          document.querySelector('#df-8141a18a-b041-4c09-9cba-158befa25ccd button.colab-df-convert');\n",
              "        buttonEl.style.display =\n",
              "          google.colab.kernel.accessAllowed ? 'block' : 'none';\n",
              "\n",
              "        async function convertToInteractive(key) {\n",
              "          const element = document.querySelector('#df-8141a18a-b041-4c09-9cba-158befa25ccd');\n",
              "          const dataTable =\n",
              "            await google.colab.kernel.invokeFunction('convertToInteractive',\n",
              "                                                     [key], {});\n",
              "          if (!dataTable) return;\n",
              "\n",
              "          const docLinkHtml = 'Like what you see? Visit the ' +\n",
              "            '<a target=\"_blank\" href=https://colab.research.google.com/notebooks/data_table.ipynb>data table notebook</a>'\n",
              "            + ' to learn more about interactive tables.';\n",
              "          element.innerHTML = '';\n",
              "          dataTable['output_type'] = 'display_data';\n",
              "          await google.colab.output.renderOutput(dataTable, element);\n",
              "          const docLink = document.createElement('div');\n",
              "          docLink.innerHTML = docLinkHtml;\n",
              "          element.appendChild(docLink);\n",
              "        }\n",
              "      </script>\n",
              "    </div>\n",
              "  </div>\n",
              "  "
            ]
          },
          "metadata": {},
          "execution_count": 23
        }
      ]
    },
    {
      "cell_type": "code",
      "source": [
        "''' data_rfm.drop(['customer_unique_id'], axis=1, inplace=True) '''"
      ],
      "metadata": {
        "colab": {
          "base_uri": "https://localhost:8080/",
          "height": 36
        },
        "id": "kjjpllWAfdQz",
        "outputId": "f494bb1f-abe2-4cfe-d8f0-5b43a430e9c0"
      },
      "execution_count": null,
      "outputs": [
        {
          "output_type": "execute_result",
          "data": {
            "text/plain": [
              "\" data_rfm.drop(['customer_unique_id'], axis=1, inplace=True) \""
            ],
            "application/vnd.google.colaboratory.intrinsic+json": {
              "type": "string"
            }
          },
          "metadata": {},
          "execution_count": 9
        }
      ]
    },
    {
      "cell_type": "code",
      "source": [
        "data_rfm.info()"
      ],
      "metadata": {
        "colab": {
          "base_uri": "https://localhost:8080/"
        },
        "id": "Qd3YILHfYSLy",
        "outputId": "5020fe5c-7b43-438a-95b5-2016c63a26c4"
      },
      "execution_count": null,
      "outputs": [
        {
          "output_type": "stream",
          "name": "stdout",
          "text": [
            "<class 'pandas.core.frame.DataFrame'>\n",
            "Int64Index: 96096 entries, 0 to 96095\n",
            "Data columns (total 4 columns):\n",
            " #   Column              Non-Null Count  Dtype  \n",
            "---  ------              --------------  -----  \n",
            " 0   customer_unique_id  96096 non-null  object \n",
            " 1   r_score             93357 non-null  float64\n",
            " 2   f_score             96096 non-null  int64  \n",
            " 3   m_score             93357 non-null  float64\n",
            "dtypes: float64(2), int64(1), object(1)\n",
            "memory usage: 3.7+ MB\n"
          ]
        }
      ]
    },
    {
      "cell_type": "code",
      "source": [
        "# Find features to fill and fillna with mode\n",
        "features_to_fill = data_rfm.isnull().sum()\n",
        "features_to_fill = list(features_to_fill[features_to_fill.values > 0].index)\n",
        "\n",
        "for f in features_to_fill:\n",
        "    data_rfm[f] = data_rfm[f].fillna(data_rfm[f].mode()[0])\n",
        "    print(f, data_rfm[f].mode()[0])"
      ],
      "metadata": {
        "colab": {
          "base_uri": "https://localhost:8080/"
        },
        "id": "R59jpWrfcz6b",
        "outputId": "35cade26-fcd9-4cb0-e1be-582a5ff65c65"
      },
      "execution_count": null,
      "outputs": [
        {
          "output_type": "stream",
          "name": "stdout",
          "text": [
            "r_score 277.0\n",
            "m_score 77.57\n"
          ]
        }
      ]
    },
    {
      "cell_type": "code",
      "source": [
        "numerical_features = list(data_rfm.select_dtypes(include=['int64','float64', 'uint8']).columns)\n",
        "numerical_features"
      ],
      "metadata": {
        "colab": {
          "base_uri": "https://localhost:8080/"
        },
        "id": "_FaU1jOJbSFR",
        "outputId": "f118eab8-5c1c-4caa-c4d7-08bf9b4b12dd"
      },
      "execution_count": null,
      "outputs": [
        {
          "output_type": "execute_result",
          "data": {
            "text/plain": [
              "['r_score', 'f_score', 'm_score']"
            ]
          },
          "metadata": {},
          "execution_count": 26
        }
      ]
    },
    {
      "cell_type": "markdown",
      "source": [
        "### **1.2.&nbsp;Application de Kmeans**"
      ],
      "metadata": {
        "id": "d7XROqP_Zg2B"
      }
    },
    {
      "cell_type": "code",
      "source": [
        "scaler = StandardScaler()\n",
        "preprocessor = ColumnTransformer([\n",
        "    ('scaler', scaler, numerical_features)])"
      ],
      "metadata": {
        "id": "dzhqXXuDaQsh"
      },
      "execution_count": null,
      "outputs": []
    },
    {
      "cell_type": "code",
      "source": [
        "X_rfm = data_rfm.copy()\n",
        "\n",
        "# Elbow method\n",
        "kmeans_visualizer = Pipeline([\n",
        "    (\"preprocessor\", preprocessor),\n",
        "    (\"kelbowvisualizer\", KElbowVisualizer(KMeans(),K=(4,12)))])\n",
        "kmeans_visualizer.fit(X_rfm)\n",
        "kmeans_visualizer.named_steps['kelbowvisualizer'].show()"
      ],
      "metadata": {
        "colab": {
          "base_uri": "https://localhost:8080/",
          "height": 393
        },
        "id": "JQVGNkACae0x",
        "outputId": "6b612993-7c62-419c-ce38-9e356ae6d5a9"
      },
      "execution_count": null,
      "outputs": [
        {
          "output_type": "display_data",
          "data": {
            "text/plain": [
              "<Figure size 576x396 with 2 Axes>"
            ],
            "image/png": "[encoded data removed]"
          },
          "metadata": {}
        },
        {
          "output_type": "execute_result",
          "data": {
            "text/plain": [
              "<matplotlib.axes._subplots.AxesSubplot at 0x7ff829a5a730>"
            ]
          },
          "metadata": {},
          "execution_count": 28
        }
      ]
    },
    {
      "cell_type": "code",
      "source": [
        "X_rfm.shape"
      ],
      "metadata": {
        "colab": {
          "base_uri": "https://localhost:8080/"
        },
        "id": "icmpPdwGkrfi",
        "outputId": "106e1ee2-0f14-403b-db09-b64d75121a6a"
      },
      "execution_count": null,
      "outputs": [
        {
          "output_type": "execute_result",
          "data": {
            "text/plain": [
              "(96096, 4)"
            ]
          },
          "metadata": {},
          "execution_count": 29
        }
      ]
    },
    {
      "cell_type": "code",
      "source": [
        "X_rfm.head()"
      ],
      "metadata": {
        "colab": {
          "base_uri": "https://localhost:8080/",
          "height": 206
        },
        "id": "FhXtE5n5kxtp",
        "outputId": "f4c1a3bd-84a3-498c-c101-d5b1b847c4b4"
      },
      "execution_count": null,
      "outputs": [
        {
          "output_type": "execute_result",
          "data": {
            "text/plain": [
              "                 customer_unique_id  r_score  f_score  m_score\n",
              "0  0000366f3b9a7992bf8c76cfdf3221e2    111.0        1   141.90\n",
              "1  0000b849f77a49e4a4ce2b2a4ca5be3f    114.0        1    27.19\n",
              "2  0000f46a3911fa3c0805444483337064    536.0        1    86.22\n",
              "3  0000f6ccb0745a6a4b88665a16c9f078    320.0        1    43.62\n",
              "4  0004aac84e0df4da2b147fca70cf8255    287.0        1   196.89"
            ],
            "text/html": [
              "\n",
              "  <div id=\"df-cc07f6cc-2d43-4a4e-ba09-7a84186050aa\">\n",
              "    <div class=\"colab-df-container\">\n",
              "      <div>\n",
              "<style scoped>\n",
              "    .dataframe tbody tr th:only-of-type {\n",
              "        vertical-align: middle;\n",
              "    }\n",
              "\n",
              "    .dataframe tbody tr th {\n",
              "        vertical-align: top;\n",
              "    }\n",
              "\n",
              "    .dataframe thead th {\n",
              "        text-align: right;\n",
              "    }\n",
              "</style>\n",
              "<table border=\"1\" class=\"dataframe\">\n",
              "  <thead>\n",
              "    <tr style=\"text-align: right;\">\n",
              "      <th></th>\n",
              "      <th>customer_unique_id</th>\n",
              "      <th>r_score</th>\n",
              "      <th>f_score</th>\n",
              "      <th>m_score</th>\n",
              "    </tr>\n",
              "  </thead>\n",
              "  <tbody>\n",
              "    <tr>\n",
              "      <th>0</th>\n",
              "      <td>0000366f3b9a7992bf8c76cfdf3221e2</td>\n",
              "      <td>111.0</td>\n",
              "      <td>1</td>\n",
              "      <td>141.90</td>\n",
              "    </tr>\n",
              "    <tr>\n",
              "      <th>1</th>\n",
              "      <td>0000b849f77a49e4a4ce2b2a4ca5be3f</td>\n",
              "      <td>114.0</td>\n",
              "      <td>1</td>\n",
              "      <td>27.19</td>\n",
              "    </tr>\n",
              "    <tr>\n",
              "      <th>2</th>\n",
              "      <td>0000f46a3911fa3c0805444483337064</td>\n",
              "      <td>536.0</td>\n",
              "      <td>1</td>\n",
              "      <td>86.22</td>\n",
              "    </tr>\n",
              "    <tr>\n",
              "      <th>3</th>\n",
              "      <td>0000f6ccb0745a6a4b88665a16c9f078</td>\n",
              "      <td>320.0</td>\n",
              "      <td>1</td>\n",
              "      <td>43.62</td>\n",
              "    </tr>\n",
              "    <tr>\n",
              "      <th>4</th>\n",
              "      <td>0004aac84e0df4da2b147fca70cf8255</td>\n",
              "      <td>287.0</td>\n",
              "      <td>1</td>\n",
              "      <td>196.89</td>\n",
              "    </tr>\n",
              "  </tbody>\n",
              "</table>\n",
              "</div>\n",
              "      <button class=\"colab-df-convert\" onclick=\"convertToInteractive('df-cc07f6cc-2d43-4a4e-ba09-7a84186050aa')\"\n",
              "              title=\"Convert this dataframe to an interactive table.\"\n",
              "              style=\"display:none;\">\n",
              "        \n",
              "  <svg xmlns=\"http://www.w3.org/2000/svg\" height=\"24px\"viewBox=\"0 0 24 24\"\n",
              "       width=\"24px\">\n",
              "    <path d=\"M0 0h24v24H0V0z\" fill=\"none\"/>\n",
              "    <path d=\"M18.56 5.44l.94 2.06.94-2.06 2.06-.94-2.06-.94-.94-2.06-.94 2.06-2.06.94zm-11 1L8.5 8.5l.94-2.06 2.06-.94-2.06-.94L8.5 2.5l-.94 2.06-2.06.94zm10 10l.94 2.06.94-2.06 2.06-.94-2.06-.94-.94-2.06-.94 2.06-2.06.94z\"/><path d=\"M17.41 7.96l-1.37-1.37c-.4-.4-.92-.59-1.43-.59-.52 0-1.04.2-1.43.59L10.3 9.45l-7.72 7.72c-.78.78-.78 2.05 0 2.83L4 21.41c.39.39.9.59 1.41.59.51 0 1.02-.2 1.41-.59l7.78-7.78 2.81-2.81c.8-.78.8-2.07 0-2.86zM5.41 20L4 18.59l7.72-7.72 1.47 1.35L5.41 20z\"/>\n",
              "  </svg>\n",
              "      </button>\n",
              "      \n",
              "  <style>\n",
              "    .colab-df-container {\n",
              "      display:flex;\n",
              "      flex-wrap:wrap;\n",
              "      gap: 12px;\n",
              "    }\n",
              "\n",
              "    .colab-df-convert {\n",
              "      background-color: #E8F0FE;\n",
              "      border: none;\n",
              "      border-radius: 50%;\n",
              "      cursor: pointer;\n",
              "      display: none;\n",
              "      fill: #1967D2;\n",
              "      height: 32px;\n",
              "      padding: 0 0 0 0;\n",
              "      width: 32px;\n",
              "    }\n",
              "\n",
              "    .colab-df-convert:hover {\n",
              "      background-color: #E2EBFA;\n",
              "      box-shadow: 0px 1px 2px rgba(60, 64, 67, 0.3), 0px 1px 3px 1px rgba(60, 64, 67, 0.15);\n",
              "      fill: #174EA6;\n",
              "    }\n",
              "\n",
              "    [theme=dark] .colab-df-convert {\n",
              "      background-color: #3B4455;\n",
              "      fill: #D2E3FC;\n",
              "    }\n",
              "\n",
              "    [theme=dark] .colab-df-convert:hover {\n",
              "      background-color: #434B5C;\n",
              "      box-shadow: 0px 1px 3px 1px rgba(0, 0, 0, 0.15);\n",
              "      filter: drop-shadow(0px 1px 2px rgba(0, 0, 0, 0.3));\n",
              "      fill: #FFFFFF;\n",
              "    }\n",
              "  </style>\n",
              "\n",
              "      <script>\n",
              "        const buttonEl =\n",
              "          document.querySelector('#df-cc07f6cc-2d43-4a4e-ba09-7a84186050aa button.colab-df-convert');\n",
              "        buttonEl.style.display =\n",
              "          google.colab.kernel.accessAllowed ? 'block' : 'none';\n",
              "\n",
              "        async function convertToInteractive(key) {\n",
              "          const element = document.querySelector('#df-cc07f6cc-2d43-4a4e-ba09-7a84186050aa');\n",
              "          const dataTable =\n",
              "            await google.colab.kernel.invokeFunction('convertToInteractive',\n",
              "                                                     [key], {});\n",
              "          if (!dataTable) return;\n",
              "\n",
              "          const docLinkHtml = 'Like what you see? Visit the ' +\n",
              "            '<a target=\"_blank\" href=https://colab.research.google.com/notebooks/data_table.ipynb>data table notebook</a>'\n",
              "            + ' to learn more about interactive tables.';\n",
              "          element.innerHTML = '';\n",
              "          dataTable['output_type'] = 'display_data';\n",
              "          await google.colab.output.renderOutput(dataTable, element);\n",
              "          const docLink = document.createElement('div');\n",
              "          docLink.innerHTML = docLinkHtml;\n",
              "          element.appendChild(docLink);\n",
              "        }\n",
              "      </script>\n",
              "    </div>\n",
              "  </div>\n",
              "  "
            ]
          },
          "metadata": {},
          "execution_count": 30
        }
      ]
    },
    {
      "cell_type": "markdown",
      "source": [
        "Grâce à la méthode du coude basée sur le score de distortion (somme moyenne des carrés des distances aux centres), une segementation en K=4 clusters serait la meilleure option."
      ],
      "metadata": {
        "id": "3Vi4fqabdWIL"
      }
    },
    {
      "cell_type": "markdown",
      "source": [
        "Pour vérifier si ce clustering fonctionne, nous allons utiliser SilhouetteVisualizer pour afficher le coefficient de silhouette pour un échantillonage de chaque cluster.  \n",
        "Le score de chaque échantillon est calculé en faisant la moyenne du coefficient de silhouette (différence entre la distance moyenne intra-cluster et la distance moyenne du cluster le plus proche pour chaque échantillon), normalisée par la valeur maximale. Cela nous donne un score entre -1 et 1, qui nous permet de déterminer si la séparation est efficace ou si les points sont assignés au mauvais cluster."
      ],
      "metadata": {
        "id": "Iib0lLp_dqEl"
      }
    },
    {
      "cell_type": "code",
      "source": [
        "K = kmeans_visualizer.named_steps['kelbowvisualizer'].elbow_value_\n",
        "\n",
        "# Silhouette Visualizer\n",
        "silhouette_visualizer = Pipeline([\n",
        "    (\"preprocessor\", preprocessor),\n",
        "    (\"silhouettevisualizer\", SilhouetteVisualizer(KMeans(K)))])\n",
        "silhouette_visualizer.fit(X_rfm)\n",
        "silhouette_visualizer.named_steps['silhouettevisualizer'].show()"
      ],
      "metadata": {
        "colab": {
          "base_uri": "https://localhost:8080/",
          "height": 393
        },
        "id": "1RJ8DJ4rdVn8",
        "outputId": "4ee17b55-b377-4653-9425-3e99cb51feed"
      },
      "execution_count": null,
      "outputs": [
        {
          "output_type": "display_data",
          "data": {
            "text/plain": [
              "<Figure size 576x396 with 1 Axes>"
            ],
            "image/png": "[encoded data removed]"
          },
          "metadata": {}
        },
        {
          "output_type": "execute_result",
          "data": {
            "text/plain": [
              "<matplotlib.axes._subplots.AxesSubplot at 0x7ff829a21850>"
            ]
          },
          "metadata": {},
          "execution_count": 31
        }
      ]
    },
    {
      "cell_type": "markdown",
      "source": [
        "Les clusters sont relativement bien répartis et les séparations sont claires "
      ],
      "metadata": {
        "id": "3V1HoeUvYDa1"
      }
    },
    {
      "cell_type": "markdown",
      "source": [
        "Nous allons maintenant calculer les distances intercluster"
      ],
      "metadata": {
        "id": "g0V2djugYn6A"
      }
    },
    {
      "cell_type": "code",
      "source": [
        "# Intercluster distance Map with best k\n",
        "distance_visualizer = Pipeline([\n",
        "    (\"preprocessor\", preprocessor),\n",
        "    (\"distancevisualizer\", InterclusterDistance(KMeans(K)))])\n",
        "distance_visualizer.fit(X_rfm)\n",
        "distance_visualizer.named_steps['distancevisualizer'].show()"
      ],
      "metadata": {
        "colab": {
          "base_uri": "https://localhost:8080/",
          "height": 383
        },
        "id": "kOzVvWTTYoXC",
        "outputId": "508f8e6f-74d6-4b3f-861b-24642d90f700"
      },
      "execution_count": null,
      "outputs": [
        {
          "output_type": "display_data",
          "data": {
            "text/plain": [
              "<Figure size 576x396 with 2 Axes>"
            ],
            "image/png": "[encoded data removed]"
          },
          "metadata": {}
        },
        {
          "output_type": "execute_result",
          "data": {
            "text/plain": [
              "<matplotlib.axes._subplots.AxesSubplot at 0x7ff828d855b0>"
            ]
          },
          "metadata": {},
          "execution_count": 32
        }
      ]
    },
    {
      "cell_type": "markdown",
      "source": [
        "Nous allons entrainer notre KMeans avec le K optimal sélectionné et affecter son cluster à chaque client. Ainsi, nous pourrons analyser les différences entre chaque cluster :"
      ],
      "metadata": {
        "id": "1t5f-GKMZBqM"
      }
    },
    {
      "cell_type": "code",
      "source": [
        "# KMeans Pipeline with best K\n",
        "kmeans_model = Pipeline([(\"preprocessor\", preprocessor),\n",
        "                         (\"kmeans\", KMeans(K))])\n",
        "kmeans_model.fit(X_rfm)\n",
        "\n",
        "# Kmeans labels\n",
        "kmeans_labels = kmeans_model.named_steps['kmeans'].labels_\n",
        "data_rfm[\"kmeans_label\"] = kmeans_labels"
      ],
      "metadata": {
        "id": "xDQWZrFsavb4"
      },
      "execution_count": null,
      "outputs": []
    },
    {
      "cell_type": "markdown",
      "source": [
        "Nous allons dans un premier temps grouper les individus par cluster pour analyser les moyennes :"
      ],
      "metadata": {
        "id": "_Nt1VnXMbPhw"
      }
    },
    {
      "cell_type": "code",
      "source": [
        "kmeans_clusters_means = data_rfm.groupby(\"kmeans_label\").mean().reset_index()\n",
        "kmeans_clusters_means"
      ],
      "metadata": {
        "colab": {
          "base_uri": "https://localhost:8080/",
          "height": 175
        },
        "id": "eOsHpKYubP6W",
        "outputId": "01f6496d-146f-42c2-d292-a7b2c01095c6"
      },
      "execution_count": null,
      "outputs": [
        {
          "output_type": "execute_result",
          "data": {
            "text/plain": [
              "   kmeans_label     r_score   f_score      m_score\n",
              "0             0  239.616946  1.162842  1155.242207\n",
              "1             1  377.062347  1.014465   126.106330\n",
              "2             2  125.768074  1.104589   132.138252\n",
              "3             3  229.338545  3.865091   285.345940"
            ],
            "text/html": [
              "\n",
              "  <div id=\"df-9048eda8-41e7-44ca-bf81-3d13e62f385c\">\n",
              "    <div class=\"colab-df-container\">\n",
              "      <div>\n",
              "<style scoped>\n",
              "    .dataframe tbody tr th:only-of-type {\n",
              "        vertical-align: middle;\n",
              "    }\n",
              "\n",
              "    .dataframe tbody tr th {\n",
              "        vertical-align: top;\n",
              "    }\n",
              "\n",
              "    .dataframe thead th {\n",
              "        text-align: right;\n",
              "    }\n",
              "</style>\n",
              "<table border=\"1\" class=\"dataframe\">\n",
              "  <thead>\n",
              "    <tr style=\"text-align: right;\">\n",
              "      <th></th>\n",
              "      <th>kmeans_label</th>\n",
              "      <th>r_score</th>\n",
              "      <th>f_score</th>\n",
              "      <th>m_score</th>\n",
              "    </tr>\n",
              "  </thead>\n",
              "  <tbody>\n",
              "    <tr>\n",
              "      <th>0</th>\n",
              "      <td>0</td>\n",
              "      <td>239.616946</td>\n",
              "      <td>1.162842</td>\n",
              "      <td>1155.242207</td>\n",
              "    </tr>\n",
              "    <tr>\n",
              "      <th>1</th>\n",
              "      <td>1</td>\n",
              "      <td>377.062347</td>\n",
              "      <td>1.014465</td>\n",
              "      <td>126.106330</td>\n",
              "    </tr>\n",
              "    <tr>\n",
              "      <th>2</th>\n",
              "      <td>2</td>\n",
              "      <td>125.768074</td>\n",
              "      <td>1.104589</td>\n",
              "      <td>132.138252</td>\n",
              "    </tr>\n",
              "    <tr>\n",
              "      <th>3</th>\n",
              "      <td>3</td>\n",
              "      <td>229.338545</td>\n",
              "      <td>3.865091</td>\n",
              "      <td>285.345940</td>\n",
              "    </tr>\n",
              "  </tbody>\n",
              "</table>\n",
              "</div>\n",
              "      <button class=\"colab-df-convert\" onclick=\"convertToInteractive('df-9048eda8-41e7-44ca-bf81-3d13e62f385c')\"\n",
              "              title=\"Convert this dataframe to an interactive table.\"\n",
              "              style=\"display:none;\">\n",
              "        \n",
              "  <svg xmlns=\"http://www.w3.org/2000/svg\" height=\"24px\"viewBox=\"0 0 24 24\"\n",
              "       width=\"24px\">\n",
              "    <path d=\"M0 0h24v24H0V0z\" fill=\"none\"/>\n",
              "    <path d=\"M18.56 5.44l.94 2.06.94-2.06 2.06-.94-2.06-.94-.94-2.06-.94 2.06-2.06.94zm-11 1L8.5 8.5l.94-2.06 2.06-.94-2.06-.94L8.5 2.5l-.94 2.06-2.06.94zm10 10l.94 2.06.94-2.06 2.06-.94-2.06-.94-.94-2.06-.94 2.06-2.06.94z\"/><path d=\"M17.41 7.96l-1.37-1.37c-.4-.4-.92-.59-1.43-.59-.52 0-1.04.2-1.43.59L10.3 9.45l-7.72 7.72c-.78.78-.78 2.05 0 2.83L4 21.41c.39.39.9.59 1.41.59.51 0 1.02-.2 1.41-.59l7.78-7.78 2.81-2.81c.8-.78.8-2.07 0-2.86zM5.41 20L4 18.59l7.72-7.72 1.47 1.35L5.41 20z\"/>\n",
              "  </svg>\n",
              "      </button>\n",
              "      \n",
              "  <style>\n",
              "    .colab-df-container {\n",
              "      display:flex;\n",
              "      flex-wrap:wrap;\n",
              "      gap: 12px;\n",
              "    }\n",
              "\n",
              "    .colab-df-convert {\n",
              "      background-color: #E8F0FE;\n",
              "      border: none;\n",
              "      border-radius: 50%;\n",
              "      cursor: pointer;\n",
              "      display: none;\n",
              "      fill: #1967D2;\n",
              "      height: 32px;\n",
              "      padding: 0 0 0 0;\n",
              "      width: 32px;\n",
              "    }\n",
              "\n",
              "    .colab-df-convert:hover {\n",
              "      background-color: #E2EBFA;\n",
              "      box-shadow: 0px 1px 2px rgba(60, 64, 67, 0.3), 0px 1px 3px 1px rgba(60, 64, 67, 0.15);\n",
              "      fill: #174EA6;\n",
              "    }\n",
              "\n",
              "    [theme=dark] .colab-df-convert {\n",
              "      background-color: #3B4455;\n",
              "      fill: #D2E3FC;\n",
              "    }\n",
              "\n",
              "    [theme=dark] .colab-df-convert:hover {\n",
              "      background-color: #434B5C;\n",
              "      box-shadow: 0px 1px 3px 1px rgba(0, 0, 0, 0.15);\n",
              "      filter: drop-shadow(0px 1px 2px rgba(0, 0, 0, 0.3));\n",
              "      fill: #FFFFFF;\n",
              "    }\n",
              "  </style>\n",
              "\n",
              "      <script>\n",
              "        const buttonEl =\n",
              "          document.querySelector('#df-9048eda8-41e7-44ca-bf81-3d13e62f385c button.colab-df-convert');\n",
              "        buttonEl.style.display =\n",
              "          google.colab.kernel.accessAllowed ? 'block' : 'none';\n",
              "\n",
              "        async function convertToInteractive(key) {\n",
              "          const element = document.querySelector('#df-9048eda8-41e7-44ca-bf81-3d13e62f385c');\n",
              "          const dataTable =\n",
              "            await google.colab.kernel.invokeFunction('convertToInteractive',\n",
              "                                                     [key], {});\n",
              "          if (!dataTable) return;\n",
              "\n",
              "          const docLinkHtml = 'Like what you see? Visit the ' +\n",
              "            '<a target=\"_blank\" href=https://colab.research.google.com/notebooks/data_table.ipynb>data table notebook</a>'\n",
              "            + ' to learn more about interactive tables.';\n",
              "          element.innerHTML = '';\n",
              "          dataTable['output_type'] = 'display_data';\n",
              "          await google.colab.output.renderOutput(dataTable, element);\n",
              "          const docLink = document.createElement('div');\n",
              "          docLink.innerHTML = docLinkHtml;\n",
              "          element.appendChild(docLink);\n",
              "        }\n",
              "      </script>\n",
              "    </div>\n",
              "  </div>\n",
              "  "
            ]
          },
          "metadata": {},
          "execution_count": 34
        }
      ]
    },
    {
      "cell_type": "markdown",
      "source": [
        "boxplot par categorie (par label)"
      ],
      "metadata": {
        "id": "5OZ12vmKJsvp"
      }
    },
    {
      "cell_type": "code",
      "source": [
        "''' X_rfm_scaled = preprocessor.fit_transform(X_rfm) '''"
      ],
      "metadata": {
        "id": "NJe7Z-GVemSB"
      },
      "execution_count": null,
      "outputs": []
    },
    {
      "cell_type": "code",
      "source": [
        "''' X_rfm.shape '''"
      ],
      "metadata": {
        "colab": {
          "base_uri": "https://localhost:8080/"
        },
        "id": "Z0XMhRgBen2S",
        "outputId": "5e8b527b-325d-4608-98ca-f1d7dfba4296"
      },
      "execution_count": null,
      "outputs": [
        {
          "output_type": "execute_result",
          "data": {
            "text/plain": [
              "(96096, 4)"
            ]
          },
          "metadata": {},
          "execution_count": 21
        }
      ]
    },
    {
      "cell_type": "code",
      "source": [
        "X_rfm_scaled = preprocessor.fit_transform(X_rfm)\n",
        "X_rfm_scaled = pd.DataFrame(X_rfm_scaled, index=X_rfm.index, columns=numerical_features)\n",
        "X_rfm_scaled[\"kmeans_label\"] = kmeans_labels\n",
        "X_rfm_scaled_clusters = X_rfm_scaled.groupby(\"kmeans_label\").mean()\n",
        "X_rfm_scaled_clusters"
      ],
      "metadata": {
        "colab": {
          "base_uri": "https://localhost:8080/",
          "height": 206
        },
        "id": "xM1XuigibkO6",
        "outputId": "1943d8df-d7a4-424c-9313-4a730e40887d"
      },
      "execution_count": null,
      "outputs": [
        {
          "output_type": "execute_result",
          "data": {
            "text/plain": [
              "               r_score   f_score   m_score\n",
              "kmeans_label                              \n",
              "0             0.010219  0.025106  4.594985\n",
              "1             0.923229 -0.205771 -0.147374\n",
              "2            -0.746046 -0.065537 -0.119578\n",
              "3            -0.058058  4.229844  0.586418"
            ],
            "text/html": [
              "\n",
              "  <div id=\"df-a5e36f8d-727c-48a4-a280-88b903204546\">\n",
              "    <div class=\"colab-df-container\">\n",
              "      <div>\n",
              "<style scoped>\n",
              "    .dataframe tbody tr th:only-of-type {\n",
              "        vertical-align: middle;\n",
              "    }\n",
              "\n",
              "    .dataframe tbody tr th {\n",
              "        vertical-align: top;\n",
              "    }\n",
              "\n",
              "    .dataframe thead th {\n",
              "        text-align: right;\n",
              "    }\n",
              "</style>\n",
              "<table border=\"1\" class=\"dataframe\">\n",
              "  <thead>\n",
              "    <tr style=\"text-align: right;\">\n",
              "      <th></th>\n",
              "      <th>r_score</th>\n",
              "      <th>f_score</th>\n",
              "      <th>m_score</th>\n",
              "    </tr>\n",
              "    <tr>\n",
              "      <th>kmeans_label</th>\n",
              "      <th></th>\n",
              "      <th></th>\n",
              "      <th></th>\n",
              "    </tr>\n",
              "  </thead>\n",
              "  <tbody>\n",
              "    <tr>\n",
              "      <th>0</th>\n",
              "      <td>0.010219</td>\n",
              "      <td>0.025106</td>\n",
              "      <td>4.594985</td>\n",
              "    </tr>\n",
              "    <tr>\n",
              "      <th>1</th>\n",
              "      <td>0.923229</td>\n",
              "      <td>-0.205771</td>\n",
              "      <td>-0.147374</td>\n",
              "    </tr>\n",
              "    <tr>\n",
              "      <th>2</th>\n",
              "      <td>-0.746046</td>\n",
              "      <td>-0.065537</td>\n",
              "      <td>-0.119578</td>\n",
              "    </tr>\n",
              "    <tr>\n",
              "      <th>3</th>\n",
              "      <td>-0.058058</td>\n",
              "      <td>4.229844</td>\n",
              "      <td>0.586418</td>\n",
              "    </tr>\n",
              "  </tbody>\n",
              "</table>\n",
              "</div>\n",
              "      <button class=\"colab-df-convert\" onclick=\"convertToInteractive('df-a5e36f8d-727c-48a4-a280-88b903204546')\"\n",
              "              title=\"Convert this dataframe to an interactive table.\"\n",
              "              style=\"display:none;\">\n",
              "        \n",
              "  <svg xmlns=\"http://www.w3.org/2000/svg\" height=\"24px\"viewBox=\"0 0 24 24\"\n",
              "       width=\"24px\">\n",
              "    <path d=\"M0 0h24v24H0V0z\" fill=\"none\"/>\n",
              "    <path d=\"M18.56 5.44l.94 2.06.94-2.06 2.06-.94-2.06-.94-.94-2.06-.94 2.06-2.06.94zm-11 1L8.5 8.5l.94-2.06 2.06-.94-2.06-.94L8.5 2.5l-.94 2.06-2.06.94zm10 10l.94 2.06.94-2.06 2.06-.94-2.06-.94-.94-2.06-.94 2.06-2.06.94z\"/><path d=\"M17.41 7.96l-1.37-1.37c-.4-.4-.92-.59-1.43-.59-.52 0-1.04.2-1.43.59L10.3 9.45l-7.72 7.72c-.78.78-.78 2.05 0 2.83L4 21.41c.39.39.9.59 1.41.59.51 0 1.02-.2 1.41-.59l7.78-7.78 2.81-2.81c.8-.78.8-2.07 0-2.86zM5.41 20L4 18.59l7.72-7.72 1.47 1.35L5.41 20z\"/>\n",
              "  </svg>\n",
              "      </button>\n",
              "      \n",
              "  <style>\n",
              "    .colab-df-container {\n",
              "      display:flex;\n",
              "      flex-wrap:wrap;\n",
              "      gap: 12px;\n",
              "    }\n",
              "\n",
              "    .colab-df-convert {\n",
              "      background-color: #E8F0FE;\n",
              "      border: none;\n",
              "      border-radius: 50%;\n",
              "      cursor: pointer;\n",
              "      display: none;\n",
              "      fill: #1967D2;\n",
              "      height: 32px;\n",
              "      padding: 0 0 0 0;\n",
              "      width: 32px;\n",
              "    }\n",
              "\n",
              "    .colab-df-convert:hover {\n",
              "      background-color: #E2EBFA;\n",
              "      box-shadow: 0px 1px 2px rgba(60, 64, 67, 0.3), 0px 1px 3px 1px rgba(60, 64, 67, 0.15);\n",
              "      fill: #174EA6;\n",
              "    }\n",
              "\n",
              "    [theme=dark] .colab-df-convert {\n",
              "      background-color: #3B4455;\n",
              "      fill: #D2E3FC;\n",
              "    }\n",
              "\n",
              "    [theme=dark] .colab-df-convert:hover {\n",
              "      background-color: #434B5C;\n",
              "      box-shadow: 0px 1px 3px 1px rgba(0, 0, 0, 0.15);\n",
              "      filter: drop-shadow(0px 1px 2px rgba(0, 0, 0, 0.3));\n",
              "      fill: #FFFFFF;\n",
              "    }\n",
              "  </style>\n",
              "\n",
              "      <script>\n",
              "        const buttonEl =\n",
              "          document.querySelector('#df-a5e36f8d-727c-48a4-a280-88b903204546 button.colab-df-convert');\n",
              "        buttonEl.style.display =\n",
              "          google.colab.kernel.accessAllowed ? 'block' : 'none';\n",
              "\n",
              "        async function convertToInteractive(key) {\n",
              "          const element = document.querySelector('#df-a5e36f8d-727c-48a4-a280-88b903204546');\n",
              "          const dataTable =\n",
              "            await google.colab.kernel.invokeFunction('convertToInteractive',\n",
              "                                                     [key], {});\n",
              "          if (!dataTable) return;\n",
              "\n",
              "          const docLinkHtml = 'Like what you see? Visit the ' +\n",
              "            '<a target=\"_blank\" href=https://colab.research.google.com/notebooks/data_table.ipynb>data table notebook</a>'\n",
              "            + ' to learn more about interactive tables.';\n",
              "          element.innerHTML = '';\n",
              "          dataTable['output_type'] = 'display_data';\n",
              "          await google.colab.output.renderOutput(dataTable, element);\n",
              "          const docLink = document.createElement('div');\n",
              "          docLink.innerHTML = docLinkHtml;\n",
              "          element.appendChild(docLink);\n",
              "        }\n",
              "      </script>\n",
              "    </div>\n",
              "  </div>\n",
              "  "
            ]
          },
          "metadata": {},
          "execution_count": 35
        }
      ]
    },
    {
      "cell_type": "markdown",
      "source": [
        "Projetons à présent ces différentes moyennes sur un Radar plot avec la librairie Plotly pour visualiser les différences entre cluster :"
      ],
      "metadata": {
        "id": "Hfd6Zpjrb2eO"
      }
    },
    {
      "cell_type": "code",
      "source": [
        "def plot_radars(data, group):\n",
        "\n",
        "    scaler = MinMaxScaler()\n",
        "    data = pd.DataFrame(scaler.fit_transform(data), \n",
        "                        index=data.index,\n",
        "                        columns=data.columns).reset_index()\n",
        "    \n",
        "    fig = go.Figure()\n",
        "\n",
        "    for k in data[group]:\n",
        "        fig.add_trace(go.Scatterpolar(\n",
        "            r=data[data[group]==k].iloc[:,1:].values.reshape(-1),\n",
        "            theta=data.columns[1:],\n",
        "            fill='toself',\n",
        "            name='Cluster '+str(k)\n",
        "        ))\n",
        "    fig.update_layout(\n",
        "        polar=dict(\n",
        "        radialaxis=dict(\n",
        "          visible=True,\n",
        "          range=[0, 1]\n",
        "        )),\n",
        "        showlegend=True,\n",
        "        title={\n",
        "            'text': \"Comparaison des moyennes par variable des clusters\",\n",
        "            'y':0.95,\n",
        "            'x':0.5,\n",
        "            'xanchor': 'center',\n",
        "            'yanchor': 'top'},\n",
        "        title_font_color=\"blue\",\n",
        "        title_font_size=18)\n",
        "\n",
        "    fig.show()"
      ],
      "metadata": {
        "id": "Mud1U5DecZg-"
      },
      "execution_count": null,
      "outputs": []
    },
    {
      "cell_type": "code",
      "source": [
        "plot_radars(data=X_rfm_scaled_clusters,\n",
        "            group=\"kmeans_label\")"
      ],
      "metadata": {
        "colab": {
          "base_uri": "https://localhost:8080/",
          "height": 542
        },
        "id": "Nx3iaaVMch8T",
        "outputId": "eb19d9a6-63a7-469f-ad49-35e419a7a6a9"
      },
      "execution_count": null,
      "outputs": [
        {
          "output_type": "display_data",
          "data": {
            "text/html": [
              "<html>\n",
              "<head><meta charset=\"utf-8\" /></head>\n",
              "<body>\n",
              "    <div>            <script src=\"https://cdnjs.cloudflare.com/ajax/libs/mathjax/2.7.5/MathJax.js?config=TeX-AMS-MML_SVG\"></script><script type=\"text/javascript\">if (window.MathJax) {MathJax.Hub.Config({SVG: {font: \"STIX-Web\"}});}</script>                <script type=\"text/javascript\">window.PlotlyConfig = {MathJaxConfig: 'local'};</script>\n",
              "        <script src=\"https://cdn.plot.ly/plotly-2.8.3.min.js\"></script>                <div id=\"fad99796-5996-478b-bbc7-0a050420007f\" class=\"plotly-graph-div\" style=\"height:525px; width:100%;\"></div>            <script type=\"text/javascript\">                                    window.PLOTLYENV=window.PLOTLYENV || {};                                    if (document.getElementById(\"fad99796-5996-478b-bbc7-0a050420007f\")) {                    Plotly.newPlot(                        \"fad99796-5996-478b-bbc7-0a050420007f\",                        [{\"fill\":\"toself\",\"name\":\"Cluster 0\",\"r\":[0.45305000652331345,0.05205066549166791,0.9999999999999999],\"theta\":[\"r_score\",\"f_score\",\"m_score\"],\"type\":\"scatterpolar\"},{\"fill\":\"toself\",\"name\":\"Cluster 1\",\"r\":[1.0,0.0,0.0],\"theta\":[\"r_score\",\"f_score\",\"m_score\"],\"type\":\"scatterpolar\"},{\"fill\":\"toself\",\"name\":\"Cluster 2\",\"r\":[0.0,0.03161556950625441,0.0058611523221899844],\"theta\":[\"r_score\",\"f_score\",\"m_score\"],\"type\":\"scatterpolar\"},{\"fill\":\"toself\",\"name\":\"Cluster 3\",\"r\":[0.4121481562301972,1.0000000000000002,0.15473137504052487],\"theta\":[\"r_score\",\"f_score\",\"m_score\"],\"type\":\"scatterpolar\"}],                        {\"template\":{\"data\":{\"bar\":[{\"error_x\":{\"color\":\"#2a3f5f\"},\"error_y\":{\"color\":\"#2a3f5f\"},\"marker\":{\"line\":{\"color\":\"#E5ECF6\",\"width\":0.5},\"pattern\":{\"fillmode\":\"overlay\",\"size\":10,\"solidity\":0.2}},\"type\":\"bar\"}],\"barpolar\":[{\"marker\":{\"line\":{\"color\":\"#E5ECF6\",\"width\":0.5},\"pattern\":{\"fillmode\":\"overlay\",\"size\":10,\"solidity\":0.2}},\"type\":\"barpolar\"}],\"carpet\":[{\"aaxis\":{\"endlinecolor\":\"#2a3f5f\",\"gridcolor\":\"white\",\"linecolor\":\"white\",\"minorgridcolor\":\"white\",\"startlinecolor\":\"#2a3f5f\"},\"baxis\":{\"endlinecolor\":\"#2a3f5f\",\"gridcolor\":\"white\",\"linecolor\":\"white\",\"minorgridcolor\":\"white\",\"startlinecolor\":\"#2a3f5f\"},\"type\":\"carpet\"}],\"choropleth\":[{\"colorbar\":{\"outlinewidth\":0,\"ticks\":\"\"},\"type\":\"choropleth\"}],\"contour\":[{\"colorbar\":{\"outlinewidth\":0,\"ticks\":\"\"},\"colorscale\":[[0.0,\"#0d0887\"],[0.1111111111111111,\"#46039f\"],[0.2222222222222222,\"#7201a8\"],[0.3333333333333333,\"#9c179e\"],[0.4444444444444444,\"#bd3786\"],[0.5555555555555556,\"#d8576b\"],[0.6666666666666666,\"#ed7953\"],[0.7777777777777778,\"#fb9f3a\"],[0.8888888888888888,\"#fdca26\"],[1.0,\"#f0f921\"]],\"type\":\"contour\"}],\"contourcarpet\":[{\"colorbar\":{\"outlinewidth\":0,\"ticks\":\"\"},\"type\":\"contourcarpet\"}],\"heatmap\":[{\"colorbar\":{\"outlinewidth\":0,\"ticks\":\"\"},\"colorscale\":[[0.0,\"#0d0887\"],[0.1111111111111111,\"#46039f\"],[0.2222222222222222,\"#7201a8\"],[0.3333333333333333,\"#9c179e\"],[0.4444444444444444,\"#bd3786\"],[0.5555555555555556,\"#d8576b\"],[0.6666666666666666,\"#ed7953\"],[0.7777777777777778,\"#fb9f3a\"],[0.8888888888888888,\"#fdca26\"],[1.0,\"#f0f921\"]],\"type\":\"heatmap\"}],\"heatmapgl\":[{\"colorbar\":{\"outlinewidth\":0,\"ticks\":\"\"},\"colorscale\":[[0.0,\"#0d0887\"],[0.1111111111111111,\"#46039f\"],[0.2222222222222222,\"#7201a8\"],[0.3333333333333333,\"#9c179e\"],[0.4444444444444444,\"#bd3786\"],[0.5555555555555556,\"#d8576b\"],[0.6666666666666666,\"#ed7953\"],[0.7777777777777778,\"#fb9f3a\"],[0.8888888888888888,\"#fdca26\"],[1.0,\"#f0f921\"]],\"type\":\"heatmapgl\"}],\"histogram\":[{\"marker\":{\"pattern\":{\"fillmode\":\"overlay\",\"size\":10,\"solidity\":0.2}},\"type\":\"histogram\"}],\"histogram2d\":[{\"colorbar\":{\"outlinewidth\":0,\"ticks\":\"\"},\"colorscale\":[[0.0,\"#0d0887\"],[0.1111111111111111,\"#46039f\"],[0.2222222222222222,\"#7201a8\"],[0.3333333333333333,\"#9c179e\"],[0.4444444444444444,\"#bd3786\"],[0.5555555555555556,\"#d8576b\"],[0.6666666666666666,\"#ed7953\"],[0.7777777777777778,\"#fb9f3a\"],[0.8888888888888888,\"#fdca26\"],[1.0,\"#f0f921\"]],\"type\":\"histogram2d\"}],\"histogram2dcontour\":[{\"colorbar\":{\"outlinewidth\":0,\"ticks\":\"\"},\"colorscale\":[[0.0,\"#0d0887\"],[0.1111111111111111,\"#46039f\"],[0.2222222222222222,\"#7201a8\"],[0.3333333333333333,\"#9c179e\"],[0.4444444444444444,\"#bd3786\"],[0.5555555555555556,\"#d8576b\"],[0.6666666666666666,\"#ed7953\"],[0.7777777777777778,\"#fb9f3a\"],[0.8888888888888888,\"#fdca26\"],[1.0,\"#f0f921\"]],\"type\":\"histogram2dcontour\"}],\"mesh3d\":[{\"colorbar\":{\"outlinewidth\":0,\"ticks\":\"\"},\"type\":\"mesh3d\"}],\"parcoords\":[{\"line\":{\"colorbar\":{\"outlinewidth\":0,\"ticks\":\"\"}},\"type\":\"parcoords\"}],\"pie\":[{\"automargin\":true,\"type\":\"pie\"}],\"scatter\":[{\"marker\":{\"colorbar\":{\"outlinewidth\":0,\"ticks\":\"\"}},\"type\":\"scatter\"}],\"scatter3d\":[{\"line\":{\"colorbar\":{\"outlinewidth\":0,\"ticks\":\"\"}},\"marker\":{\"colorbar\":{\"outlinewidth\":0,\"ticks\":\"\"}},\"type\":\"scatter3d\"}],\"scattercarpet\":[{\"marker\":{\"colorbar\":{\"outlinewidth\":0,\"ticks\":\"\"}},\"type\":\"scattercarpet\"}],\"scattergeo\":[{\"marker\":{\"colorbar\":{\"outlinewidth\":0,\"ticks\":\"\"}},\"type\":\"scattergeo\"}],\"scattergl\":[{\"marker\":{\"colorbar\":{\"outlinewidth\":0,\"ticks\":\"\"}},\"type\":\"scattergl\"}],\"scattermapbox\":[{\"marker\":{\"colorbar\":{\"outlinewidth\":0,\"ticks\":\"\"}},\"type\":\"scattermapbox\"}],\"scatterpolar\":[{\"marker\":{\"colorbar\":{\"outlinewidth\":0,\"ticks\":\"\"}},\"type\":\"scatterpolar\"}],\"scatterpolargl\":[{\"marker\":{\"colorbar\":{\"outlinewidth\":0,\"ticks\":\"\"}},\"type\":\"scatterpolargl\"}],\"scatterternary\":[{\"marker\":{\"colorbar\":{\"outlinewidth\":0,\"ticks\":\"\"}},\"type\":\"scatterternary\"}],\"surface\":[{\"colorbar\":{\"outlinewidth\":0,\"ticks\":\"\"},\"colorscale\":[[0.0,\"#0d0887\"],[0.1111111111111111,\"#46039f\"],[0.2222222222222222,\"#7201a8\"],[0.3333333333333333,\"#9c179e\"],[0.4444444444444444,\"#bd3786\"],[0.5555555555555556,\"#d8576b\"],[0.6666666666666666,\"#ed7953\"],[0.7777777777777778,\"#fb9f3a\"],[0.8888888888888888,\"#fdca26\"],[1.0,\"#f0f921\"]],\"type\":\"surface\"}],\"table\":[{\"cells\":{\"fill\":{\"color\":\"#EBF0F8\"},\"line\":{\"color\":\"white\"}},\"header\":{\"fill\":{\"color\":\"#C8D4E3\"},\"line\":{\"color\":\"white\"}},\"type\":\"table\"}]},\"layout\":{\"annotationdefaults\":{\"arrowcolor\":\"#2a3f5f\",\"arrowhead\":0,\"arrowwidth\":1},\"autotypenumbers\":\"strict\",\"coloraxis\":{\"colorbar\":{\"outlinewidth\":0,\"ticks\":\"\"}},\"colorscale\":{\"diverging\":[[0,\"#8e0152\"],[0.1,\"#c51b7d\"],[0.2,\"#de77ae\"],[0.3,\"#f1b6da\"],[0.4,\"#fde0ef\"],[0.5,\"#f7f7f7\"],[0.6,\"#e6f5d0\"],[0.7,\"#b8e186\"],[0.8,\"#7fbc41\"],[0.9,\"#4d9221\"],[1,\"#276419\"]],\"sequential\":[[0.0,\"#0d0887\"],[0.1111111111111111,\"#46039f\"],[0.2222222222222222,\"#7201a8\"],[0.3333333333333333,\"#9c179e\"],[0.4444444444444444,\"#bd3786\"],[0.5555555555555556,\"#d8576b\"],[0.6666666666666666,\"#ed7953\"],[0.7777777777777778,\"#fb9f3a\"],[0.8888888888888888,\"#fdca26\"],[1.0,\"#f0f921\"]],\"sequentialminus\":[[0.0,\"#0d0887\"],[0.1111111111111111,\"#46039f\"],[0.2222222222222222,\"#7201a8\"],[0.3333333333333333,\"#9c179e\"],[0.4444444444444444,\"#bd3786\"],[0.5555555555555556,\"#d8576b\"],[0.6666666666666666,\"#ed7953\"],[0.7777777777777778,\"#fb9f3a\"],[0.8888888888888888,\"#fdca26\"],[1.0,\"#f0f921\"]]},\"colorway\":[\"#636efa\",\"#EF553B\",\"#00cc96\",\"#ab63fa\",\"#FFA15A\",\"#19d3f3\",\"#FF6692\",\"#B6E880\",\"#FF97FF\",\"#FECB52\"],\"font\":{\"color\":\"#2a3f5f\"},\"geo\":{\"bgcolor\":\"white\",\"lakecolor\":\"white\",\"landcolor\":\"#E5ECF6\",\"showlakes\":true,\"showland\":true,\"subunitcolor\":\"white\"},\"hoverlabel\":{\"align\":\"left\"},\"hovermode\":\"closest\",\"mapbox\":{\"style\":\"light\"},\"paper_bgcolor\":\"white\",\"plot_bgcolor\":\"#E5ECF6\",\"polar\":{\"angularaxis\":{\"gridcolor\":\"white\",\"linecolor\":\"white\",\"ticks\":\"\"},\"bgcolor\":\"#E5ECF6\",\"radialaxis\":{\"gridcolor\":\"white\",\"linecolor\":\"white\",\"ticks\":\"\"}},\"scene\":{\"xaxis\":{\"backgroundcolor\":\"#E5ECF6\",\"gridcolor\":\"white\",\"gridwidth\":2,\"linecolor\":\"white\",\"showbackground\":true,\"ticks\":\"\",\"zerolinecolor\":\"white\"},\"yaxis\":{\"backgroundcolor\":\"#E5ECF6\",\"gridcolor\":\"white\",\"gridwidth\":2,\"linecolor\":\"white\",\"showbackground\":true,\"ticks\":\"\",\"zerolinecolor\":\"white\"},\"zaxis\":{\"backgroundcolor\":\"#E5ECF6\",\"gridcolor\":\"white\",\"gridwidth\":2,\"linecolor\":\"white\",\"showbackground\":true,\"ticks\":\"\",\"zerolinecolor\":\"white\"}},\"shapedefaults\":{\"line\":{\"color\":\"#2a3f5f\"}},\"ternary\":{\"aaxis\":{\"gridcolor\":\"white\",\"linecolor\":\"white\",\"ticks\":\"\"},\"baxis\":{\"gridcolor\":\"white\",\"linecolor\":\"white\",\"ticks\":\"\"},\"bgcolor\":\"#E5ECF6\",\"caxis\":{\"gridcolor\":\"white\",\"linecolor\":\"white\",\"ticks\":\"\"}},\"title\":{\"x\":0.05},\"xaxis\":{\"automargin\":true,\"gridcolor\":\"white\",\"linecolor\":\"white\",\"ticks\":\"\",\"title\":{\"standoff\":15},\"zerolinecolor\":\"white\",\"zerolinewidth\":2},\"yaxis\":{\"automargin\":true,\"gridcolor\":\"white\",\"linecolor\":\"white\",\"ticks\":\"\",\"title\":{\"standoff\":15},\"zerolinecolor\":\"white\",\"zerolinewidth\":2}}},\"polar\":{\"radialaxis\":{\"visible\":true,\"range\":[0,1]}},\"title\":{\"font\":{\"color\":\"blue\",\"size\":18},\"text\":\"Comparaison des moyennes par variable des clusters\",\"y\":0.95,\"x\":0.5,\"xanchor\":\"center\",\"yanchor\":\"top\"},\"showlegend\":true},                        {\"responsive\": true}                    ).then(function(){\n",
              "                            \n",
              "var gd = document.getElementById('fad99796-5996-478b-bbc7-0a050420007f');\n",
              "var x = new MutationObserver(function (mutations, observer) {{\n",
              "        var display = window.getComputedStyle(gd).display;\n",
              "        if (!display || display === 'none') {{\n",
              "            console.log([gd, 'removed!']);\n",
              "            Plotly.purge(gd);\n",
              "            observer.disconnect();\n",
              "        }}\n",
              "}});\n",
              "\n",
              "// Listen for the removal of the full notebook cells\n",
              "var notebookContainer = gd.closest('#notebook-container');\n",
              "if (notebookContainer) {{\n",
              "    x.observe(notebookContainer, {childList: true});\n",
              "}}\n",
              "\n",
              "// Listen for the clearing of the current output cell\n",
              "var outputEl = gd.closest('.output');\n",
              "if (outputEl) {{\n",
              "    x.observe(outputEl, {childList: true});\n",
              "}}\n",
              "\n",
              "                        })                };                            </script>        </div>\n",
              "</body>\n",
              "</html>"
            ]
          },
          "metadata": {}
        }
      ]
    },
    {
      "cell_type": "markdown",
      "source": [
        "**Interpretation**"
      ],
      "metadata": {
        "id": "XzdE_DuwnzAn"
      }
    },
    {
      "cell_type": "markdown",
      "source": [],
      "metadata": {
        "id": "8ddkSiEhn2y6"
      }
    },
    {
      "cell_type": "markdown",
      "source": [
        "### **2.&nbsp;Segmentation avec le dataset global**"
      ],
      "metadata": {
        "id": "uro0Gu0tgNos"
      }
    },
    {
      "cell_type": "markdown",
      "source": [
        "### **2.1.&nbsp;Chargement des données**"
      ],
      "metadata": {
        "id": "kYPxta1agrPx"
      }
    },
    {
      "cell_type": "markdown",
      "source": [
        "Nous allons suivre la même procédure que dans la section précédente mais cette fois avec le dataset global"
      ],
      "metadata": {
        "id": "CIm7UOhdhYy4"
      }
    },
    {
      "cell_type": "code",
      "source": [
        "data = pd.read_csv('olist-customers-segmentation.csv', index_col=0)"
      ],
      "metadata": {
        "id": "aPi36NBDgsSJ"
      },
      "execution_count": null,
      "outputs": []
    },
    {
      "cell_type": "code",
      "source": [
        "data.head()"
      ],
      "metadata": {
        "colab": {
          "base_uri": "https://localhost:8080/",
          "height": 435
        },
        "id": "zLL7Im47iIfh",
        "outputId": "f7b01ff7-b640-4037-a86e-e129ebf68d64"
      },
      "execution_count": null,
      "outputs": [
        {
          "output_type": "execute_result",
          "data": {
            "text/plain": [
              "                                  nb_orders  total_spend  \\\n",
              "customer_unique_id                                         \n",
              "0000366f3b9a7992bf8c76cfdf3221e2          1       141.90   \n",
              "0000b849f77a49e4a4ce2b2a4ca5be3f          1        27.19   \n",
              "0000f46a3911fa3c0805444483337064          1        86.22   \n",
              "0000f6ccb0745a6a4b88665a16c9f078          1        43.62   \n",
              "0004aac84e0df4da2b147fca70cf8255          1       196.89   \n",
              "\n",
              "                                  mean_payment_sequential  \\\n",
              "customer_unique_id                                          \n",
              "0000366f3b9a7992bf8c76cfdf3221e2                      1.0   \n",
              "0000b849f77a49e4a4ce2b2a4ca5be3f                      1.0   \n",
              "0000f46a3911fa3c0805444483337064                      1.0   \n",
              "0000f6ccb0745a6a4b88665a16c9f078                      1.0   \n",
              "0004aac84e0df4da2b147fca70cf8255                      1.0   \n",
              "\n",
              "                                  mean_payment_installments  \\\n",
              "customer_unique_id                                            \n",
              "0000366f3b9a7992bf8c76cfdf3221e2                        8.0   \n",
              "0000b849f77a49e4a4ce2b2a4ca5be3f                        1.0   \n",
              "0000f46a3911fa3c0805444483337064                        8.0   \n",
              "0000f6ccb0745a6a4b88665a16c9f078                        4.0   \n",
              "0004aac84e0df4da2b147fca70cf8255                        6.0   \n",
              "\n",
              "                                  mean_review_score  mean_delivery_days  \\\n",
              "customer_unique_id                                                        \n",
              "0000366f3b9a7992bf8c76cfdf3221e2                5.0                 6.0   \n",
              "0000b849f77a49e4a4ce2b2a4ca5be3f                4.0                 3.0   \n",
              "0000f46a3911fa3c0805444483337064                3.0                26.0   \n",
              "0000f6ccb0745a6a4b88665a16c9f078                4.0                20.0   \n",
              "0004aac84e0df4da2b147fca70cf8255                5.0                13.0   \n",
              "\n",
              "                                 favorite_sale_month  books_cds_media  \\\n",
              "customer_unique_id                                                      \n",
              "0000366f3b9a7992bf8c76cfdf3221e2                   1              0.0   \n",
              "0000b849f77a49e4a4ce2b2a4ca5be3f                   1              0.0   \n",
              "0000f46a3911fa3c0805444483337064                   1              0.0   \n",
              "0000f6ccb0745a6a4b88665a16c9f078                   1              0.0   \n",
              "0004aac84e0df4da2b147fca70cf8255                   1              0.0   \n",
              "\n",
              "                                  fashion_clothing_accessories  flowers_gifts  \\\n",
              "customer_unique_id                                                              \n",
              "0000366f3b9a7992bf8c76cfdf3221e2                           0.0            0.0   \n",
              "0000b849f77a49e4a4ce2b2a4ca5be3f                           0.0            0.0   \n",
              "0000f46a3911fa3c0805444483337064                           0.0            0.0   \n",
              "0000f6ccb0745a6a4b88665a16c9f078                           0.0            0.0   \n",
              "0004aac84e0df4da2b147fca70cf8255                           0.0            0.0   \n",
              "\n",
              "                                  ...  f_score  m_score  freight_ratio  \\\n",
              "customer_unique_id                ...                                    \n",
              "0000366f3b9a7992bf8c76cfdf3221e2  ...        1   141.90           0.08   \n",
              "0000b849f77a49e4a4ce2b2a4ca5be3f  ...        1    27.19           0.30   \n",
              "0000f46a3911fa3c0805444483337064  ...        1    86.22           0.20   \n",
              "0000f6ccb0745a6a4b88665a16c9f078  ...        1    43.62           0.40   \n",
              "0004aac84e0df4da2b147fca70cf8255  ...        1   196.89           0.09   \n",
              "\n",
              "                                  mean_price_order  \\\n",
              "customer_unique_id                                   \n",
              "0000366f3b9a7992bf8c76cfdf3221e2            129.90   \n",
              "0000b849f77a49e4a4ce2b2a4ca5be3f             18.90   \n",
              "0000f46a3911fa3c0805444483337064             69.00   \n",
              "0000f6ccb0745a6a4b88665a16c9f078             25.99   \n",
              "0004aac84e0df4da2b147fca70cf8255            180.00   \n",
              "\n",
              "                                                       customer_id  \\\n",
              "customer_unique_id                                                   \n",
              "0000366f3b9a7992bf8c76cfdf3221e2  fadbb3709178fc513abc1b2670aa1ad2   \n",
              "0000b849f77a49e4a4ce2b2a4ca5be3f  4cb282e167ae9234755102258dd52ee8   \n",
              "0000f46a3911fa3c0805444483337064  9b3932a6253894a02c1df9d19004239f   \n",
              "0000f6ccb0745a6a4b88665a16c9f078  914991f0c02ef0843c0e7010c819d642   \n",
              "0004aac84e0df4da2b147fca70cf8255  47227568b10f5f58a524a75507e6992c   \n",
              "\n",
              "                                  customer_zip_code_prefix  customer_city  \\\n",
              "customer_unique_id                                                          \n",
              "0000366f3b9a7992bf8c76cfdf3221e2                      7787        cajamar   \n",
              "0000b849f77a49e4a4ce2b2a4ca5be3f                      6053         osasco   \n",
              "0000f46a3911fa3c0805444483337064                     88115       sao jose   \n",
              "0000f6ccb0745a6a4b88665a16c9f078                     66812          belem   \n",
              "0004aac84e0df4da2b147fca70cf8255                     18040       sorocaba   \n",
              "\n",
              "                                  customer_state   Flag and name  \\\n",
              "customer_unique_id                                                 \n",
              "0000366f3b9a7992bf8c76cfdf3221e2       São Paulo       São Paulo   \n",
              "0000b849f77a49e4a4ce2b2a4ca5be3f       São Paulo       São Paulo   \n",
              "0000f46a3911fa3c0805444483337064  Santa Catarina  Santa Catarina   \n",
              "0000f6ccb0745a6a4b88665a16c9f078            Pará            Pará   \n",
              "0004aac84e0df4da2b147fca70cf8255       São Paulo       São Paulo   \n",
              "\n",
              "                                  harvesine_distance  \n",
              "customer_unique_id                                    \n",
              "0000366f3b9a7992bf8c76cfdf3221e2          209.713834  \n",
              "0000b849f77a49e4a4ce2b2a4ca5be3f          209.713834  \n",
              "0000f46a3911fa3c0805444483337064          125.363853  \n",
              "0000f6ccb0745a6a4b88665a16c9f078         1574.231129  \n",
              "0004aac84e0df4da2b147fca70cf8255          209.713834  \n",
              "\n",
              "[5 rows x 28 columns]"
            ],
            "text/html": [
              "\n",
              "  <div id=\"df-777d7f28-e01e-430d-b164-ee0ad2d19e5b\">\n",
              "    <div class=\"colab-df-container\">\n",
              "      <div>\n",
              "<style scoped>\n",
              "    .dataframe tbody tr th:only-of-type {\n",
              "        vertical-align: middle;\n",
              "    }\n",
              "\n",
              "    .dataframe tbody tr th {\n",
              "        vertical-align: top;\n",
              "    }\n",
              "\n",
              "    .dataframe thead th {\n",
              "        text-align: right;\n",
              "    }\n",
              "</style>\n",
              "<table border=\"1\" class=\"dataframe\">\n",
              "  <thead>\n",
              "    <tr style=\"text-align: right;\">\n",
              "      <th></th>\n",
              "      <th>nb_orders</th>\n",
              "      <th>total_spend</th>\n",
              "      <th>mean_payment_sequential</th>\n",
              "      <th>mean_payment_installments</th>\n",
              "      <th>mean_review_score</th>\n",
              "      <th>mean_delivery_days</th>\n",
              "      <th>favorite_sale_month</th>\n",
              "      <th>books_cds_media</th>\n",
              "      <th>fashion_clothing_accessories</th>\n",
              "      <th>flowers_gifts</th>\n",
              "      <th>...</th>\n",
              "      <th>f_score</th>\n",
              "      <th>m_score</th>\n",
              "      <th>freight_ratio</th>\n",
              "      <th>mean_price_order</th>\n",
              "      <th>customer_id</th>\n",
              "      <th>customer_zip_code_prefix</th>\n",
              "      <th>customer_city</th>\n",
              "      <th>customer_state</th>\n",
              "      <th>Flag and name</th>\n",
              "      <th>harvesine_distance</th>\n",
              "    </tr>\n",
              "    <tr>\n",
              "      <th>customer_unique_id</th>\n",
              "      <th></th>\n",
              "      <th></th>\n",
              "      <th></th>\n",
              "      <th></th>\n",
              "      <th></th>\n",
              "      <th></th>\n",
              "      <th></th>\n",
              "      <th></th>\n",
              "      <th></th>\n",
              "      <th></th>\n",
              "      <th></th>\n",
              "      <th></th>\n",
              "      <th></th>\n",
              "      <th></th>\n",
              "      <th></th>\n",
              "      <th></th>\n",
              "      <th></th>\n",
              "      <th></th>\n",
              "      <th></th>\n",
              "      <th></th>\n",
              "      <th></th>\n",
              "    </tr>\n",
              "  </thead>\n",
              "  <tbody>\n",
              "    <tr>\n",
              "      <th>0000366f3b9a7992bf8c76cfdf3221e2</th>\n",
              "      <td>1</td>\n",
              "      <td>141.90</td>\n",
              "      <td>1.0</td>\n",
              "      <td>8.0</td>\n",
              "      <td>5.0</td>\n",
              "      <td>6.0</td>\n",
              "      <td>1</td>\n",
              "      <td>0.0</td>\n",
              "      <td>0.0</td>\n",
              "      <td>0.0</td>\n",
              "      <td>...</td>\n",
              "      <td>1</td>\n",
              "      <td>141.90</td>\n",
              "      <td>0.08</td>\n",
              "      <td>129.90</td>\n",
              "      <td>fadbb3709178fc513abc1b2670aa1ad2</td>\n",
              "      <td>7787</td>\n",
              "      <td>cajamar</td>\n",
              "      <td>São Paulo</td>\n",
              "      <td>São Paulo</td>\n",
              "      <td>209.713834</td>\n",
              "    </tr>\n",
              "    <tr>\n",
              "      <th>0000b849f77a49e4a4ce2b2a4ca5be3f</th>\n",
              "      <td>1</td>\n",
              "      <td>27.19</td>\n",
              "      <td>1.0</td>\n",
              "      <td>1.0</td>\n",
              "      <td>4.0</td>\n",
              "      <td>3.0</td>\n",
              "      <td>1</td>\n",
              "      <td>0.0</td>\n",
              "      <td>0.0</td>\n",
              "      <td>0.0</td>\n",
              "      <td>...</td>\n",
              "      <td>1</td>\n",
              "      <td>27.19</td>\n",
              "      <td>0.30</td>\n",
              "      <td>18.90</td>\n",
              "      <td>4cb282e167ae9234755102258dd52ee8</td>\n",
              "      <td>6053</td>\n",
              "      <td>osasco</td>\n",
              "      <td>São Paulo</td>\n",
              "      <td>São Paulo</td>\n",
              "      <td>209.713834</td>\n",
              "    </tr>\n",
              "    <tr>\n",
              "      <th>0000f46a3911fa3c0805444483337064</th>\n",
              "      <td>1</td>\n",
              "      <td>86.22</td>\n",
              "      <td>1.0</td>\n",
              "      <td>8.0</td>\n",
              "      <td>3.0</td>\n",
              "      <td>26.0</td>\n",
              "      <td>1</td>\n",
              "      <td>0.0</td>\n",
              "      <td>0.0</td>\n",
              "      <td>0.0</td>\n",
              "      <td>...</td>\n",
              "      <td>1</td>\n",
              "      <td>86.22</td>\n",
              "      <td>0.20</td>\n",
              "      <td>69.00</td>\n",
              "      <td>9b3932a6253894a02c1df9d19004239f</td>\n",
              "      <td>88115</td>\n",
              "      <td>sao jose</td>\n",
              "      <td>Santa Catarina</td>\n",
              "      <td>Santa Catarina</td>\n",
              "      <td>125.363853</td>\n",
              "    </tr>\n",
              "    <tr>\n",
              "      <th>0000f6ccb0745a6a4b88665a16c9f078</th>\n",
              "      <td>1</td>\n",
              "      <td>43.62</td>\n",
              "      <td>1.0</td>\n",
              "      <td>4.0</td>\n",
              "      <td>4.0</td>\n",
              "      <td>20.0</td>\n",
              "      <td>1</td>\n",
              "      <td>0.0</td>\n",
              "      <td>0.0</td>\n",
              "      <td>0.0</td>\n",
              "      <td>...</td>\n",
              "      <td>1</td>\n",
              "      <td>43.62</td>\n",
              "      <td>0.40</td>\n",
              "      <td>25.99</td>\n",
              "      <td>914991f0c02ef0843c0e7010c819d642</td>\n",
              "      <td>66812</td>\n",
              "      <td>belem</td>\n",
              "      <td>Pará</td>\n",
              "      <td>Pará</td>\n",
              "      <td>1574.231129</td>\n",
              "    </tr>\n",
              "    <tr>\n",
              "      <th>0004aac84e0df4da2b147fca70cf8255</th>\n",
              "      <td>1</td>\n",
              "      <td>196.89</td>\n",
              "      <td>1.0</td>\n",
              "      <td>6.0</td>\n",
              "      <td>5.0</td>\n",
              "      <td>13.0</td>\n",
              "      <td>1</td>\n",
              "      <td>0.0</td>\n",
              "      <td>0.0</td>\n",
              "      <td>0.0</td>\n",
              "      <td>...</td>\n",
              "      <td>1</td>\n",
              "      <td>196.89</td>\n",
              "      <td>0.09</td>\n",
              "      <td>180.00</td>\n",
              "      <td>47227568b10f5f58a524a75507e6992c</td>\n",
              "      <td>18040</td>\n",
              "      <td>sorocaba</td>\n",
              "      <td>São Paulo</td>\n",
              "      <td>São Paulo</td>\n",
              "      <td>209.713834</td>\n",
              "    </tr>\n",
              "  </tbody>\n",
              "</table>\n",
              "<p>5 rows × 28 columns</p>\n",
              "</div>\n",
              "      <button class=\"colab-df-convert\" onclick=\"convertToInteractive('df-777d7f28-e01e-430d-b164-ee0ad2d19e5b')\"\n",
              "              title=\"Convert this dataframe to an interactive table.\"\n",
              "              style=\"display:none;\">\n",
              "        \n",
              "  <svg xmlns=\"http://www.w3.org/2000/svg\" height=\"24px\"viewBox=\"0 0 24 24\"\n",
              "       width=\"24px\">\n",
              "    <path d=\"M0 0h24v24H0V0z\" fill=\"none\"/>\n",
              "    <path d=\"M18.56 5.44l.94 2.06.94-2.06 2.06-.94-2.06-.94-.94-2.06-.94 2.06-2.06.94zm-11 1L8.5 8.5l.94-2.06 2.06-.94-2.06-.94L8.5 2.5l-.94 2.06-2.06.94zm10 10l.94 2.06.94-2.06 2.06-.94-2.06-.94-.94-2.06-.94 2.06-2.06.94z\"/><path d=\"M17.41 7.96l-1.37-1.37c-.4-.4-.92-.59-1.43-.59-.52 0-1.04.2-1.43.59L10.3 9.45l-7.72 7.72c-.78.78-.78 2.05 0 2.83L4 21.41c.39.39.9.59 1.41.59.51 0 1.02-.2 1.41-.59l7.78-7.78 2.81-2.81c.8-.78.8-2.07 0-2.86zM5.41 20L4 18.59l7.72-7.72 1.47 1.35L5.41 20z\"/>\n",
              "  </svg>\n",
              "      </button>\n",
              "      \n",
              "  <style>\n",
              "    .colab-df-container {\n",
              "      display:flex;\n",
              "      flex-wrap:wrap;\n",
              "      gap: 12px;\n",
              "    }\n",
              "\n",
              "    .colab-df-convert {\n",
              "      background-color: #E8F0FE;\n",
              "      border: none;\n",
              "      border-radius: 50%;\n",
              "      cursor: pointer;\n",
              "      display: none;\n",
              "      fill: #1967D2;\n",
              "      height: 32px;\n",
              "      padding: 0 0 0 0;\n",
              "      width: 32px;\n",
              "    }\n",
              "\n",
              "    .colab-df-convert:hover {\n",
              "      background-color: #E2EBFA;\n",
              "      box-shadow: 0px 1px 2px rgba(60, 64, 67, 0.3), 0px 1px 3px 1px rgba(60, 64, 67, 0.15);\n",
              "      fill: #174EA6;\n",
              "    }\n",
              "\n",
              "    [theme=dark] .colab-df-convert {\n",
              "      background-color: #3B4455;\n",
              "      fill: #D2E3FC;\n",
              "    }\n",
              "\n",
              "    [theme=dark] .colab-df-convert:hover {\n",
              "      background-color: #434B5C;\n",
              "      box-shadow: 0px 1px 3px 1px rgba(0, 0, 0, 0.15);\n",
              "      filter: drop-shadow(0px 1px 2px rgba(0, 0, 0, 0.3));\n",
              "      fill: #FFFFFF;\n",
              "    }\n",
              "  </style>\n",
              "\n",
              "      <script>\n",
              "        const buttonEl =\n",
              "          document.querySelector('#df-777d7f28-e01e-430d-b164-ee0ad2d19e5b button.colab-df-convert');\n",
              "        buttonEl.style.display =\n",
              "          google.colab.kernel.accessAllowed ? 'block' : 'none';\n",
              "\n",
              "        async function convertToInteractive(key) {\n",
              "          const element = document.querySelector('#df-777d7f28-e01e-430d-b164-ee0ad2d19e5b');\n",
              "          const dataTable =\n",
              "            await google.colab.kernel.invokeFunction('convertToInteractive',\n",
              "                                                     [key], {});\n",
              "          if (!dataTable) return;\n",
              "\n",
              "          const docLinkHtml = 'Like what you see? Visit the ' +\n",
              "            '<a target=\"_blank\" href=https://colab.research.google.com/notebooks/data_table.ipynb>data table notebook</a>'\n",
              "            + ' to learn more about interactive tables.';\n",
              "          element.innerHTML = '';\n",
              "          dataTable['output_type'] = 'display_data';\n",
              "          await google.colab.output.renderOutput(dataTable, element);\n",
              "          const docLink = document.createElement('div');\n",
              "          docLink.innerHTML = docLinkHtml;\n",
              "          element.appendChild(docLink);\n",
              "        }\n",
              "      </script>\n",
              "    </div>\n",
              "  </div>\n",
              "  "
            ]
          },
          "metadata": {},
          "execution_count": 39
        }
      ]
    },
    {
      "cell_type": "code",
      "source": [
        "data.info()"
      ],
      "metadata": {
        "colab": {
          "base_uri": "https://localhost:8080/"
        },
        "id": "AU-sbPAAicZB",
        "outputId": "25cd942b-e2b7-41e7-c87e-4959958d698a"
      },
      "execution_count": null,
      "outputs": [
        {
          "output_type": "stream",
          "name": "stdout",
          "text": [
            "<class 'pandas.core.frame.DataFrame'>\n",
            "Index: 96096 entries, 0000366f3b9a7992bf8c76cfdf3221e2 to ffffd2657e2aad2907e67c3e9daecbeb\n",
            "Data columns (total 28 columns):\n",
            " #   Column                        Non-Null Count  Dtype  \n",
            "---  ------                        --------------  -----  \n",
            " 0   nb_orders                     96096 non-null  int64  \n",
            " 1   total_spend                   96096 non-null  float64\n",
            " 2   mean_payment_sequential       96096 non-null  float64\n",
            " 3   mean_payment_installments     96096 non-null  float64\n",
            " 4   mean_review_score             96096 non-null  float64\n",
            " 5   mean_delivery_days            96096 non-null  float64\n",
            " 6   favorite_sale_month           96096 non-null  object \n",
            " 7   books_cds_media               96096 non-null  float64\n",
            " 8   fashion_clothing_accessories  96096 non-null  float64\n",
            " 9   flowers_gifts                 96096 non-null  float64\n",
            " 10  health_beauty                 96096 non-null  float64\n",
            " 11  other                         96096 non-null  float64\n",
            " 12  sport                         96096 non-null  float64\n",
            " 13  technology                    96096 non-null  float64\n",
            " 14  total_items                   96096 non-null  float64\n",
            " 15  mean_nb_items                 96096 non-null  float64\n",
            " 16  order_mean_delay              96096 non-null  float64\n",
            " 17  r_score                       96096 non-null  float64\n",
            " 18  f_score                       96096 non-null  int64  \n",
            " 19  m_score                       96096 non-null  float64\n",
            " 20  freight_ratio                 96096 non-null  float64\n",
            " 21  mean_price_order              96096 non-null  float64\n",
            " 22  customer_id                   96096 non-null  object \n",
            " 23  customer_zip_code_prefix      96096 non-null  int64  \n",
            " 24  customer_city                 96096 non-null  object \n",
            " 25  customer_state                96096 non-null  object \n",
            " 26  Flag and name                 96096 non-null  object \n",
            " 27  harvesine_distance            96096 non-null  float64\n",
            "dtypes: float64(20), int64(3), object(5)\n",
            "memory usage: 21.3+ MB\n"
          ]
        }
      ]
    },
    {
      "cell_type": "markdown",
      "source": [
        "Nous allons supprimer customer_zip_code_prefix et customer_city, customer_state pour ne conserver que la variable haversine_distance pour indiquer une localisation \"large\" des clients, ce qui évitera de focaliser la segmentation sur la localisation du client.  \n",
        "Nous allons également supprimer mean_price_order et mean_nb_items puisque nous avons vu dans le Notebook de nettoyage et exploration que ces variables sont fortement corrélées aux totaux pour le moment.  \n",
        "Nous allons aussi supprimer le customer_id.\n",
        "\n"
      ],
      "metadata": {
        "id": "L5lg8MLni6gO"
      }
    },
    {
      "cell_type": "code",
      "source": [
        "data.drop([\"customer_zip_code_prefix\",\n",
        "           \"customer_city\",\n",
        "           \"customer_state\",\n",
        "           \"Flag and name\",\n",
        "           \"mean_price_order\",\n",
        "           \"customer_id\",\n",
        "           \"mean_nb_items\"], axis=1, inplace=True)"
      ],
      "metadata": {
        "id": "SHs3zO7gjFUE"
      },
      "execution_count": null,
      "outputs": []
    },
    {
      "cell_type": "code",
      "source": [
        "categorical_features = list(data.select_dtypes(exclude=['int64', 'float64', 'uint8']).columns)\n",
        "categorical_features"
      ],
      "metadata": {
        "colab": {
          "base_uri": "https://localhost:8080/"
        },
        "id": "-4TchDSdjHrM",
        "outputId": "99513fce-73c4-4715-828c-ef2d2dcfe976"
      },
      "execution_count": null,
      "outputs": [
        {
          "output_type": "execute_result",
          "data": {
            "text/plain": [
              "['favorite_sale_month']"
            ]
          },
          "metadata": {},
          "execution_count": 42
        }
      ]
    },
    {
      "cell_type": "code",
      "source": [
        "numerical_features = list(data.select_dtypes(include=['int64','float64', 'uint8']).columns)\n",
        "numerical_features"
      ],
      "metadata": {
        "colab": {
          "base_uri": "https://localhost:8080/"
        },
        "id": "ZR6pRVoGjN4g",
        "outputId": "c0d14811-619d-46c3-fa5f-3d2b141e103d"
      },
      "execution_count": null,
      "outputs": [
        {
          "output_type": "execute_result",
          "data": {
            "text/plain": [
              "['nb_orders',\n",
              " 'total_spend',\n",
              " 'mean_payment_sequential',\n",
              " 'mean_payment_installments',\n",
              " 'mean_review_score',\n",
              " 'mean_delivery_days',\n",
              " 'books_cds_media',\n",
              " 'fashion_clothing_accessories',\n",
              " 'flowers_gifts',\n",
              " 'health_beauty',\n",
              " 'other',\n",
              " 'sport',\n",
              " 'technology',\n",
              " 'total_items',\n",
              " 'order_mean_delay',\n",
              " 'r_score',\n",
              " 'f_score',\n",
              " 'm_score',\n",
              " 'freight_ratio',\n",
              " 'harvesine_distance']"
            ]
          },
          "metadata": {},
          "execution_count": 45
        }
      ]
    },
    {
      "cell_type": "markdown",
      "source": [
        "### **2.2.&nbsp;Application du Kmeans**"
      ],
      "metadata": {
        "id": "WNZTg1Vdkzvm"
      }
    },
    {
      "cell_type": "markdown",
      "source": [
        "**Méthode du coude : détermination du meilleur K**"
      ],
      "metadata": {
        "id": "bkZPSjjjkr2i"
      }
    },
    {
      "cell_type": "code",
      "source": [
        "scaler = MinMaxScaler()\n",
        "\n",
        "preprocessor = ColumnTransformer([\n",
        "    ('scaler', scaler, numerical_features)])"
      ],
      "metadata": {
        "id": "3byg3NM0jw69"
      },
      "execution_count": null,
      "outputs": []
    },
    {
      "cell_type": "code",
      "source": [
        "X = data.copy()\n",
        "\n",
        "# Elbow method\n",
        "kmeans_visualizer = Pipeline([\n",
        "    (\"preprocessor\", preprocessor),\n",
        "    (\"kelbowvisualizer\", KElbowVisualizer(KMeans(),K=(4,12)))])\n",
        "kmeans_visualizer.fit(X)\n",
        "kmeans_visualizer.named_steps['kelbowvisualizer'].show()"
      ],
      "metadata": {
        "colab": {
          "base_uri": "https://localhost:8080/",
          "height": 393
        },
        "id": "21Epihm0j5fe",
        "outputId": "8e72cc87-1c42-45d8-8547-67a54b4b6816"
      },
      "execution_count": null,
      "outputs": [
        {
          "output_type": "display_data",
          "data": {
            "text/plain": [
              "<Figure size 576x396 with 2 Axes>"
            ],
            "image/png": "[encoded data removed]"
          },
          "metadata": {}
        },
        {
          "output_type": "execute_result",
          "data": {
            "text/plain": [
              "<matplotlib.axes._subplots.AxesSubplot at 0x7ff827593040>"
            ]
          },
          "metadata": {},
          "execution_count": 47
        }
      ]
    },
    {
      "cell_type": "markdown",
      "source": [
        "**Coefficient de silhouette**"
      ],
      "metadata": {
        "id": "OhchqQAYk_G6"
      }
    },
    {
      "cell_type": "code",
      "source": [
        "# Best K in Elbow\n",
        "K = kmeans_visualizer.named_steps['kelbowvisualizer'].elbow_value_\n",
        "\n",
        "# Silhouette Visualizer\n",
        "silhouette_visualizer = Pipeline([\n",
        "    (\"preprocessor\", preprocessor),\n",
        "    (\"silhouettevisualizer\", SilhouetteVisualizer(KMeans(K)))])\n",
        "silhouette_visualizer.fit(X)\n",
        "silhouette_visualizer.named_steps['silhouettevisualizer'].show()"
      ],
      "metadata": {
        "colab": {
          "base_uri": "https://localhost:8080/",
          "height": 393
        },
        "id": "FNm6g4NilETX",
        "outputId": "8d5c2f4d-83c6-491f-8dc1-9a4eb6680361"
      },
      "execution_count": null,
      "outputs": [
        {
          "output_type": "display_data",
          "data": {
            "text/plain": [
              "<Figure size 576x396 with 1 Axes>"
            ],
            "image/png": "[encoded data removed]"
          },
          "metadata": {}
        },
        {
          "output_type": "execute_result",
          "data": {
            "text/plain": [
              "<matplotlib.axes._subplots.AxesSubplot at 0x7ff8274503d0>"
            ]
          },
          "metadata": {},
          "execution_count": 48
        }
      ]
    },
    {
      "cell_type": "markdown",
      "source": [
        "**Distances intercluster**"
      ],
      "metadata": {
        "id": "pSHPuhQrmIZH"
      }
    },
    {
      "cell_type": "code",
      "source": [
        "# Intercluster distance Map with best k\n",
        "distance_visualizer = Pipeline([\n",
        "    (\"preprocessor\", preprocessor),\n",
        "    (\"distancevisualizer\", InterclusterDistance(KMeans(K)))])\n",
        "distance_visualizer.fit(X)\n",
        "distance_visualizer.named_steps['distancevisualizer'].show()"
      ],
      "metadata": {
        "colab": {
          "base_uri": "https://localhost:8080/",
          "height": 383
        },
        "id": "Soua8O3DmKSw",
        "outputId": "243b6987-8e27-40d6-cc9d-6d909a25dc4f"
      },
      "execution_count": null,
      "outputs": [
        {
          "output_type": "display_data",
          "data": {
            "text/plain": [
              "<Figure size 576x396 with 2 Axes>"
            ],
            "image/png": "[encoded data removed]"
          },
          "metadata": {}
        },
        {
          "output_type": "execute_result",
          "data": {
            "text/plain": [
              "<matplotlib.axes._subplots.AxesSubplot at 0x7ff82736ac40>"
            ]
          },
          "metadata": {},
          "execution_count": 51
        }
      ]
    },
    {
      "cell_type": "markdown",
      "source": [
        "Sur cette projection en 2D, on remarque que les différents clusters sont bien séparés sur les 2 premières composantes principales. Le clustering semble donc performant et il faut a présent identifier les composantes métier de chaque cluster"
      ],
      "metadata": {
        "id": "_NDD85xqmUGr"
      }
    },
    {
      "cell_type": "markdown",
      "source": [
        "**Analyse des différents clusters**"
      ],
      "metadata": {
        "id": "SGRytWfWmZQj"
      }
    },
    {
      "cell_type": "code",
      "source": [
        "# KMeans Pipeline with best K\n",
        "kmeans_model = Pipeline([(\"preprocessor\", preprocessor),\n",
        "                         (\"kmeans\", KMeans(K))])\n",
        "kmeans_model.fit(X)\n",
        "\n",
        "# Kmeans labels\n",
        "kmeans_labels = kmeans_model.named_steps['kmeans'].labels_\n",
        "data[\"kmeans_label\"] = kmeans_labels"
      ],
      "metadata": {
        "id": "l3lLSw71mdHX"
      },
      "execution_count": null,
      "outputs": []
    },
    {
      "cell_type": "code",
      "source": [
        "kmeans_clusters_means = data.groupby(\"kmeans_label\").mean().reset_index()\n",
        "kmeans_clusters_means"
      ],
      "metadata": {
        "colab": {
          "base_uri": "https://localhost:8080/",
          "height": 299
        },
        "id": "X2eJjhlsmltf",
        "outputId": "321921d1-1594-4b44-a8fe-cf37ca254011"
      },
      "execution_count": null,
      "outputs": [
        {
          "output_type": "execute_result",
          "data": {
            "text/plain": [
              "   kmeans_label  nb_orders  total_spend  mean_payment_sequential  \\\n",
              "0             0   0.909539   145.207211                 1.046554   \n",
              "1             1   1.037546   154.394741                 1.034242   \n",
              "2             2   1.056121   164.448906                 1.039293   \n",
              "3             3   1.023073   158.162173                 1.050055   \n",
              "4             4   1.032549   186.022147                 1.042305   \n",
              "\n",
              "   mean_payment_installments  mean_review_score  mean_delivery_days  \\\n",
              "0                   2.945243           4.679481           11.579230   \n",
              "1                   2.473912           4.235925           12.261376   \n",
              "2                   2.813024           4.703833           10.533889   \n",
              "3                   3.101902           4.239812           12.246531   \n",
              "4                   3.176675           1.758101           18.835360   \n",
              "\n",
              "   books_cds_media  fashion_clothing_accessories  flowers_gifts  ...  \\\n",
              "0         0.000017                      0.000118       0.000084  ...   \n",
              "1         0.000000                      0.000658       0.000035  ...   \n",
              "2         0.000018                      0.000939       0.000588  ...   \n",
              "3         0.006648                      0.221266       0.353578  ...   \n",
              "4         0.000000                      0.000945       0.001267  ...   \n",
              "\n",
              "      other     sport  technology  total_items  order_mean_delay     r_score  \\\n",
              "0  0.999601  0.000104    0.000035     1.021220        376.670015  377.729968   \n",
              "1  0.004112  0.994532    0.000233     1.165453        239.190803  245.215887   \n",
              "2  0.995804  0.001567    0.000258     1.183274        114.318934  120.467345   \n",
              "3  0.004386  0.000775    0.109053     1.099741        273.390472  277.578893   \n",
              "4  0.995254  0.001741    0.000201     1.331797        219.682060  224.943341   \n",
              "\n",
              "    f_score     m_score  freight_ratio  harvesine_distance  \n",
              "0  1.021220  151.993044       0.202608          449.192991  \n",
              "1  1.165453  149.299047       0.198942          427.212864  \n",
              "2  1.183274  156.554227       0.210609          409.366886  \n",
              "3  1.099741  154.940371       0.186458          451.662938  \n",
              "4  1.331797  181.111143       0.217446          485.350877  \n",
              "\n",
              "[5 rows x 21 columns]"
            ],
            "text/html": [
              "\n",
              "  <div id=\"df-958744d4-cddb-4ed3-a7bc-5f66a099fae6\">\n",
              "    <div class=\"colab-df-container\">\n",
              "      <div>\n",
              "<style scoped>\n",
              "    .dataframe tbody tr th:only-of-type {\n",
              "        vertical-align: middle;\n",
              "    }\n",
              "\n",
              "    .dataframe tbody tr th {\n",
              "        vertical-align: top;\n",
              "    }\n",
              "\n",
              "    .dataframe thead th {\n",
              "        text-align: right;\n",
              "    }\n",
              "</style>\n",
              "<table border=\"1\" class=\"dataframe\">\n",
              "  <thead>\n",
              "    <tr style=\"text-align: right;\">\n",
              "      <th></th>\n",
              "      <th>kmeans_label</th>\n",
              "      <th>nb_orders</th>\n",
              "      <th>total_spend</th>\n",
              "      <th>mean_payment_sequential</th>\n",
              "      <th>mean_payment_installments</th>\n",
              "      <th>mean_review_score</th>\n",
              "      <th>mean_delivery_days</th>\n",
              "      <th>books_cds_media</th>\n",
              "      <th>fashion_clothing_accessories</th>\n",
              "      <th>flowers_gifts</th>\n",
              "      <th>...</th>\n",
              "      <th>other</th>\n",
              "      <th>sport</th>\n",
              "      <th>technology</th>\n",
              "      <th>total_items</th>\n",
              "      <th>order_mean_delay</th>\n",
              "      <th>r_score</th>\n",
              "      <th>f_score</th>\n",
              "      <th>m_score</th>\n",
              "      <th>freight_ratio</th>\n",
              "      <th>harvesine_distance</th>\n",
              "    </tr>\n",
              "  </thead>\n",
              "  <tbody>\n",
              "    <tr>\n",
              "      <th>0</th>\n",
              "      <td>0</td>\n",
              "      <td>0.909539</td>\n",
              "      <td>145.207211</td>\n",
              "      <td>1.046554</td>\n",
              "      <td>2.945243</td>\n",
              "      <td>4.679481</td>\n",
              "      <td>11.579230</td>\n",
              "      <td>0.000017</td>\n",
              "      <td>0.000118</td>\n",
              "      <td>0.000084</td>\n",
              "      <td>...</td>\n",
              "      <td>0.999601</td>\n",
              "      <td>0.000104</td>\n",
              "      <td>0.000035</td>\n",
              "      <td>1.021220</td>\n",
              "      <td>376.670015</td>\n",
              "      <td>377.729968</td>\n",
              "      <td>1.021220</td>\n",
              "      <td>151.993044</td>\n",
              "      <td>0.202608</td>\n",
              "      <td>449.192991</td>\n",
              "    </tr>\n",
              "    <tr>\n",
              "      <th>1</th>\n",
              "      <td>1</td>\n",
              "      <td>1.037546</td>\n",
              "      <td>154.394741</td>\n",
              "      <td>1.034242</td>\n",
              "      <td>2.473912</td>\n",
              "      <td>4.235925</td>\n",
              "      <td>12.261376</td>\n",
              "      <td>0.000000</td>\n",
              "      <td>0.000658</td>\n",
              "      <td>0.000035</td>\n",
              "      <td>...</td>\n",
              "      <td>0.004112</td>\n",
              "      <td>0.994532</td>\n",
              "      <td>0.000233</td>\n",
              "      <td>1.165453</td>\n",
              "      <td>239.190803</td>\n",
              "      <td>245.215887</td>\n",
              "      <td>1.165453</td>\n",
              "      <td>149.299047</td>\n",
              "      <td>0.198942</td>\n",
              "      <td>427.212864</td>\n",
              "    </tr>\n",
              "    <tr>\n",
              "      <th>2</th>\n",
              "      <td>2</td>\n",
              "      <td>1.056121</td>\n",
              "      <td>164.448906</td>\n",
              "      <td>1.039293</td>\n",
              "      <td>2.813024</td>\n",
              "      <td>4.703833</td>\n",
              "      <td>10.533889</td>\n",
              "      <td>0.000018</td>\n",
              "      <td>0.000939</td>\n",
              "      <td>0.000588</td>\n",
              "      <td>...</td>\n",
              "      <td>0.995804</td>\n",
              "      <td>0.001567</td>\n",
              "      <td>0.000258</td>\n",
              "      <td>1.183274</td>\n",
              "      <td>114.318934</td>\n",
              "      <td>120.467345</td>\n",
              "      <td>1.183274</td>\n",
              "      <td>156.554227</td>\n",
              "      <td>0.210609</td>\n",
              "      <td>409.366886</td>\n",
              "    </tr>\n",
              "    <tr>\n",
              "      <th>3</th>\n",
              "      <td>3</td>\n",
              "      <td>1.023073</td>\n",
              "      <td>158.162173</td>\n",
              "      <td>1.050055</td>\n",
              "      <td>3.101902</td>\n",
              "      <td>4.239812</td>\n",
              "      <td>12.246531</td>\n",
              "      <td>0.006648</td>\n",
              "      <td>0.221266</td>\n",
              "      <td>0.353578</td>\n",
              "      <td>...</td>\n",
              "      <td>0.004386</td>\n",
              "      <td>0.000775</td>\n",
              "      <td>0.109053</td>\n",
              "      <td>1.099741</td>\n",
              "      <td>273.390472</td>\n",
              "      <td>277.578893</td>\n",
              "      <td>1.099741</td>\n",
              "      <td>154.940371</td>\n",
              "      <td>0.186458</td>\n",
              "      <td>451.662938</td>\n",
              "    </tr>\n",
              "    <tr>\n",
              "      <th>4</th>\n",
              "      <td>4</td>\n",
              "      <td>1.032549</td>\n",
              "      <td>186.022147</td>\n",
              "      <td>1.042305</td>\n",
              "      <td>3.176675</td>\n",
              "      <td>1.758101</td>\n",
              "      <td>18.835360</td>\n",
              "      <td>0.000000</td>\n",
              "      <td>0.000945</td>\n",
              "      <td>0.001267</td>\n",
              "      <td>...</td>\n",
              "      <td>0.995254</td>\n",
              "      <td>0.001741</td>\n",
              "      <td>0.000201</td>\n",
              "      <td>1.331797</td>\n",
              "      <td>219.682060</td>\n",
              "      <td>224.943341</td>\n",
              "      <td>1.331797</td>\n",
              "      <td>181.111143</td>\n",
              "      <td>0.217446</td>\n",
              "      <td>485.350877</td>\n",
              "    </tr>\n",
              "  </tbody>\n",
              "</table>\n",
              "<p>5 rows × 21 columns</p>\n",
              "</div>\n",
              "      <button class=\"colab-df-convert\" onclick=\"convertToInteractive('df-958744d4-cddb-4ed3-a7bc-5f66a099fae6')\"\n",
              "              title=\"Convert this dataframe to an interactive table.\"\n",
              "              style=\"display:none;\">\n",
              "        \n",
              "  <svg xmlns=\"http://www.w3.org/2000/svg\" height=\"24px\"viewBox=\"0 0 24 24\"\n",
              "       width=\"24px\">\n",
              "    <path d=\"M0 0h24v24H0V0z\" fill=\"none\"/>\n",
              "    <path d=\"M18.56 5.44l.94 2.06.94-2.06 2.06-.94-2.06-.94-.94-2.06-.94 2.06-2.06.94zm-11 1L8.5 8.5l.94-2.06 2.06-.94-2.06-.94L8.5 2.5l-.94 2.06-2.06.94zm10 10l.94 2.06.94-2.06 2.06-.94-2.06-.94-.94-2.06-.94 2.06-2.06.94z\"/><path d=\"M17.41 7.96l-1.37-1.37c-.4-.4-.92-.59-1.43-.59-.52 0-1.04.2-1.43.59L10.3 9.45l-7.72 7.72c-.78.78-.78 2.05 0 2.83L4 21.41c.39.39.9.59 1.41.59.51 0 1.02-.2 1.41-.59l7.78-7.78 2.81-2.81c.8-.78.8-2.07 0-2.86zM5.41 20L4 18.59l7.72-7.72 1.47 1.35L5.41 20z\"/>\n",
              "  </svg>\n",
              "      </button>\n",
              "      \n",
              "  <style>\n",
              "    .colab-df-container {\n",
              "      display:flex;\n",
              "      flex-wrap:wrap;\n",
              "      gap: 12px;\n",
              "    }\n",
              "\n",
              "    .colab-df-convert {\n",
              "      background-color: #E8F0FE;\n",
              "      border: none;\n",
              "      border-radius: 50%;\n",
              "      cursor: pointer;\n",
              "      display: none;\n",
              "      fill: #1967D2;\n",
              "      height: 32px;\n",
              "      padding: 0 0 0 0;\n",
              "      width: 32px;\n",
              "    }\n",
              "\n",
              "    .colab-df-convert:hover {\n",
              "      background-color: #E2EBFA;\n",
              "      box-shadow: 0px 1px 2px rgba(60, 64, 67, 0.3), 0px 1px 3px 1px rgba(60, 64, 67, 0.15);\n",
              "      fill: #174EA6;\n",
              "    }\n",
              "\n",
              "    [theme=dark] .colab-df-convert {\n",
              "      background-color: #3B4455;\n",
              "      fill: #D2E3FC;\n",
              "    }\n",
              "\n",
              "    [theme=dark] .colab-df-convert:hover {\n",
              "      background-color: #434B5C;\n",
              "      box-shadow: 0px 1px 3px 1px rgba(0, 0, 0, 0.15);\n",
              "      filter: drop-shadow(0px 1px 2px rgba(0, 0, 0, 0.3));\n",
              "      fill: #FFFFFF;\n",
              "    }\n",
              "  </style>\n",
              "\n",
              "      <script>\n",
              "        const buttonEl =\n",
              "          document.querySelector('#df-958744d4-cddb-4ed3-a7bc-5f66a099fae6 button.colab-df-convert');\n",
              "        buttonEl.style.display =\n",
              "          google.colab.kernel.accessAllowed ? 'block' : 'none';\n",
              "\n",
              "        async function convertToInteractive(key) {\n",
              "          const element = document.querySelector('#df-958744d4-cddb-4ed3-a7bc-5f66a099fae6');\n",
              "          const dataTable =\n",
              "            await google.colab.kernel.invokeFunction('convertToInteractive',\n",
              "                                                     [key], {});\n",
              "          if (!dataTable) return;\n",
              "\n",
              "          const docLinkHtml = 'Like what you see? Visit the ' +\n",
              "            '<a target=\"_blank\" href=https://colab.research.google.com/notebooks/data_table.ipynb>data table notebook</a>'\n",
              "            + ' to learn more about interactive tables.';\n",
              "          element.innerHTML = '';\n",
              "          dataTable['output_type'] = 'display_data';\n",
              "          await google.colab.output.renderOutput(dataTable, element);\n",
              "          const docLink = document.createElement('div');\n",
              "          docLink.innerHTML = docLinkHtml;\n",
              "          element.appendChild(docLink);\n",
              "        }\n",
              "      </script>\n",
              "    </div>\n",
              "  </div>\n",
              "  "
            ]
          },
          "metadata": {},
          "execution_count": 53
        }
      ]
    },
    {
      "cell_type": "code",
      "source": [
        "X_scaled = preprocessor.fit_transform(X)\n",
        "X_scaled = pd.DataFrame(X_scaled, index=X.index, columns=numerical_features)\n",
        "X_scaled[\"kmeans_label\"] = kmeans_labels\n",
        "X_scaled_clusters = X_scaled.groupby(\"kmeans_label\").mean()\n",
        "X_scaled_clusters"
      ],
      "metadata": {
        "colab": {
          "base_uri": "https://localhost:8080/",
          "height": 301
        },
        "id": "y2nOlhgVmt5t",
        "outputId": "5b285d96-b78b-432a-a1a5-22017808cb05"
      },
      "execution_count": null,
      "outputs": [
        {
          "output_type": "execute_result",
          "data": {
            "text/plain": [
              "              nb_orders  total_spend  mean_payment_sequential  \\\n",
              "kmeans_label                                                    \n",
              "0              0.060636     0.010627                 0.001862   \n",
              "1              0.069170     0.011299                 0.001370   \n",
              "2              0.070408     0.012035                 0.001572   \n",
              "3              0.068205     0.011575                 0.002002   \n",
              "4              0.068837     0.013614                 0.001692   \n",
              "\n",
              "              mean_payment_installments  mean_review_score  \\\n",
              "kmeans_label                                                 \n",
              "0                              0.113279           0.919870   \n",
              "1                              0.095150           0.808981   \n",
              "2                              0.108193           0.925958   \n",
              "3                              0.119304           0.809953   \n",
              "4                              0.122180           0.189525   \n",
              "\n",
              "              mean_delivery_days  books_cds_media  \\\n",
              "kmeans_label                                        \n",
              "0                       0.050618         0.000017   \n",
              "1                       0.053882         0.000000   \n",
              "2                       0.045617         0.000018   \n",
              "3                       0.053811         0.006648   \n",
              "4                       0.085337         0.000000   \n",
              "\n",
              "              fashion_clothing_accessories  flowers_gifts  health_beauty  \\\n",
              "kmeans_label                                                               \n",
              "0                                 0.000118       0.000084       0.000040   \n",
              "1                                 0.000658       0.000035       0.000430   \n",
              "2                                 0.000939       0.000588       0.000825   \n",
              "3                                 0.221266       0.353578       0.304294   \n",
              "4                                 0.000945       0.001267       0.000591   \n",
              "\n",
              "                 other     sport  technology  total_items  order_mean_delay  \\\n",
              "kmeans_label                                                                  \n",
              "0             0.999601  0.000104    0.000035     0.042551          0.541971   \n",
              "1             0.004112  0.994532    0.000233     0.048561          0.344159   \n",
              "2             0.995804  0.001567    0.000258     0.049303          0.164488   \n",
              "3             0.004386  0.000775    0.109053     0.045823          0.393368   \n",
              "4             0.995254  0.001741    0.000201     0.055492          0.316089   \n",
              "\n",
              "               r_score   f_score   m_score  freight_ratio  harvesine_distance  \n",
              "kmeans_label                                                                   \n",
              "0             0.544279  0.042551  0.010429       0.211050            0.172144  \n",
              "1             0.353337  0.048561  0.010232       0.207232            0.161036  \n",
              "2             0.173584  0.049303  0.010763       0.219384            0.152017  \n",
              "3             0.399970  0.045823  0.010645       0.194227            0.173392  \n",
              "4             0.324126  0.055492  0.012562       0.226506            0.190417  "
            ],
            "text/html": [
              "\n",
              "  <div id=\"df-5f040a7a-d33e-4239-9c6a-1da81b7cfffe\">\n",
              "    <div class=\"colab-df-container\">\n",
              "      <div>\n",
              "<style scoped>\n",
              "    .dataframe tbody tr th:only-of-type {\n",
              "        vertical-align: middle;\n",
              "    }\n",
              "\n",
              "    .dataframe tbody tr th {\n",
              "        vertical-align: top;\n",
              "    }\n",
              "\n",
              "    .dataframe thead th {\n",
              "        text-align: right;\n",
              "    }\n",
              "</style>\n",
              "<table border=\"1\" class=\"dataframe\">\n",
              "  <thead>\n",
              "    <tr style=\"text-align: right;\">\n",
              "      <th></th>\n",
              "      <th>nb_orders</th>\n",
              "      <th>total_spend</th>\n",
              "      <th>mean_payment_sequential</th>\n",
              "      <th>mean_payment_installments</th>\n",
              "      <th>mean_review_score</th>\n",
              "      <th>mean_delivery_days</th>\n",
              "      <th>books_cds_media</th>\n",
              "      <th>fashion_clothing_accessories</th>\n",
              "      <th>flowers_gifts</th>\n",
              "      <th>health_beauty</th>\n",
              "      <th>other</th>\n",
              "      <th>sport</th>\n",
              "      <th>technology</th>\n",
              "      <th>total_items</th>\n",
              "      <th>order_mean_delay</th>\n",
              "      <th>r_score</th>\n",
              "      <th>f_score</th>\n",
              "      <th>m_score</th>\n",
              "      <th>freight_ratio</th>\n",
              "      <th>harvesine_distance</th>\n",
              "    </tr>\n",
              "    <tr>\n",
              "      <th>kmeans_label</th>\n",
              "      <th></th>\n",
              "      <th></th>\n",
              "      <th></th>\n",
              "      <th></th>\n",
              "      <th></th>\n",
              "      <th></th>\n",
              "      <th></th>\n",
              "      <th></th>\n",
              "      <th></th>\n",
              "      <th></th>\n",
              "      <th></th>\n",
              "      <th></th>\n",
              "      <th></th>\n",
              "      <th></th>\n",
              "      <th></th>\n",
              "      <th></th>\n",
              "      <th></th>\n",
              "      <th></th>\n",
              "      <th></th>\n",
              "      <th></th>\n",
              "    </tr>\n",
              "  </thead>\n",
              "  <tbody>\n",
              "    <tr>\n",
              "      <th>0</th>\n",
              "      <td>0.060636</td>\n",
              "      <td>0.010627</td>\n",
              "      <td>0.001862</td>\n",
              "      <td>0.113279</td>\n",
              "      <td>0.919870</td>\n",
              "      <td>0.050618</td>\n",
              "      <td>0.000017</td>\n",
              "      <td>0.000118</td>\n",
              "      <td>0.000084</td>\n",
              "      <td>0.000040</td>\n",
              "      <td>0.999601</td>\n",
              "      <td>0.000104</td>\n",
              "      <td>0.000035</td>\n",
              "      <td>0.042551</td>\n",
              "      <td>0.541971</td>\n",
              "      <td>0.544279</td>\n",
              "      <td>0.042551</td>\n",
              "      <td>0.010429</td>\n",
              "      <td>0.211050</td>\n",
              "      <td>0.172144</td>\n",
              "    </tr>\n",
              "    <tr>\n",
              "      <th>1</th>\n",
              "      <td>0.069170</td>\n",
              "      <td>0.011299</td>\n",
              "      <td>0.001370</td>\n",
              "      <td>0.095150</td>\n",
              "      <td>0.808981</td>\n",
              "      <td>0.053882</td>\n",
              "      <td>0.000000</td>\n",
              "      <td>0.000658</td>\n",
              "      <td>0.000035</td>\n",
              "      <td>0.000430</td>\n",
              "      <td>0.004112</td>\n",
              "      <td>0.994532</td>\n",
              "      <td>0.000233</td>\n",
              "      <td>0.048561</td>\n",
              "      <td>0.344159</td>\n",
              "      <td>0.353337</td>\n",
              "      <td>0.048561</td>\n",
              "      <td>0.010232</td>\n",
              "      <td>0.207232</td>\n",
              "      <td>0.161036</td>\n",
              "    </tr>\n",
              "    <tr>\n",
              "      <th>2</th>\n",
              "      <td>0.070408</td>\n",
              "      <td>0.012035</td>\n",
              "      <td>0.001572</td>\n",
              "      <td>0.108193</td>\n",
              "      <td>0.925958</td>\n",
              "      <td>0.045617</td>\n",
              "      <td>0.000018</td>\n",
              "      <td>0.000939</td>\n",
              "      <td>0.000588</td>\n",
              "      <td>0.000825</td>\n",
              "      <td>0.995804</td>\n",
              "      <td>0.001567</td>\n",
              "      <td>0.000258</td>\n",
              "      <td>0.049303</td>\n",
              "      <td>0.164488</td>\n",
              "      <td>0.173584</td>\n",
              "      <td>0.049303</td>\n",
              "      <td>0.010763</td>\n",
              "      <td>0.219384</td>\n",
              "      <td>0.152017</td>\n",
              "    </tr>\n",
              "    <tr>\n",
              "      <th>3</th>\n",
              "      <td>0.068205</td>\n",
              "      <td>0.011575</td>\n",
              "      <td>0.002002</td>\n",
              "      <td>0.119304</td>\n",
              "      <td>0.809953</td>\n",
              "      <td>0.053811</td>\n",
              "      <td>0.006648</td>\n",
              "      <td>0.221266</td>\n",
              "      <td>0.353578</td>\n",
              "      <td>0.304294</td>\n",
              "      <td>0.004386</td>\n",
              "      <td>0.000775</td>\n",
              "      <td>0.109053</td>\n",
              "      <td>0.045823</td>\n",
              "      <td>0.393368</td>\n",
              "      <td>0.399970</td>\n",
              "      <td>0.045823</td>\n",
              "      <td>0.010645</td>\n",
              "      <td>0.194227</td>\n",
              "      <td>0.173392</td>\n",
              "    </tr>\n",
              "    <tr>\n",
              "      <th>4</th>\n",
              "      <td>0.068837</td>\n",
              "      <td>0.013614</td>\n",
              "      <td>0.001692</td>\n",
              "      <td>0.122180</td>\n",
              "      <td>0.189525</td>\n",
              "      <td>0.085337</td>\n",
              "      <td>0.000000</td>\n",
              "      <td>0.000945</td>\n",
              "      <td>0.001267</td>\n",
              "      <td>0.000591</td>\n",
              "      <td>0.995254</td>\n",
              "      <td>0.001741</td>\n",
              "      <td>0.000201</td>\n",
              "      <td>0.055492</td>\n",
              "      <td>0.316089</td>\n",
              "      <td>0.324126</td>\n",
              "      <td>0.055492</td>\n",
              "      <td>0.012562</td>\n",
              "      <td>0.226506</td>\n",
              "      <td>0.190417</td>\n",
              "    </tr>\n",
              "  </tbody>\n",
              "</table>\n",
              "</div>\n",
              "      <button class=\"colab-df-convert\" onclick=\"convertToInteractive('df-5f040a7a-d33e-4239-9c6a-1da81b7cfffe')\"\n",
              "              title=\"Convert this dataframe to an interactive table.\"\n",
              "              style=\"display:none;\">\n",
              "        \n",
              "  <svg xmlns=\"http://www.w3.org/2000/svg\" height=\"24px\"viewBox=\"0 0 24 24\"\n",
              "       width=\"24px\">\n",
              "    <path d=\"M0 0h24v24H0V0z\" fill=\"none\"/>\n",
              "    <path d=\"M18.56 5.44l.94 2.06.94-2.06 2.06-.94-2.06-.94-.94-2.06-.94 2.06-2.06.94zm-11 1L8.5 8.5l.94-2.06 2.06-.94-2.06-.94L8.5 2.5l-.94 2.06-2.06.94zm10 10l.94 2.06.94-2.06 2.06-.94-2.06-.94-.94-2.06-.94 2.06-2.06.94z\"/><path d=\"M17.41 7.96l-1.37-1.37c-.4-.4-.92-.59-1.43-.59-.52 0-1.04.2-1.43.59L10.3 9.45l-7.72 7.72c-.78.78-.78 2.05 0 2.83L4 21.41c.39.39.9.59 1.41.59.51 0 1.02-.2 1.41-.59l7.78-7.78 2.81-2.81c.8-.78.8-2.07 0-2.86zM5.41 20L4 18.59l7.72-7.72 1.47 1.35L5.41 20z\"/>\n",
              "  </svg>\n",
              "      </button>\n",
              "      \n",
              "  <style>\n",
              "    .colab-df-container {\n",
              "      display:flex;\n",
              "      flex-wrap:wrap;\n",
              "      gap: 12px;\n",
              "    }\n",
              "\n",
              "    .colab-df-convert {\n",
              "      background-color: #E8F0FE;\n",
              "      border: none;\n",
              "      border-radius: 50%;\n",
              "      cursor: pointer;\n",
              "      display: none;\n",
              "      fill: #1967D2;\n",
              "      height: 32px;\n",
              "      padding: 0 0 0 0;\n",
              "      width: 32px;\n",
              "    }\n",
              "\n",
              "    .colab-df-convert:hover {\n",
              "      background-color: #E2EBFA;\n",
              "      box-shadow: 0px 1px 2px rgba(60, 64, 67, 0.3), 0px 1px 3px 1px rgba(60, 64, 67, 0.15);\n",
              "      fill: #174EA6;\n",
              "    }\n",
              "\n",
              "    [theme=dark] .colab-df-convert {\n",
              "      background-color: #3B4455;\n",
              "      fill: #D2E3FC;\n",
              "    }\n",
              "\n",
              "    [theme=dark] .colab-df-convert:hover {\n",
              "      background-color: #434B5C;\n",
              "      box-shadow: 0px 1px 3px 1px rgba(0, 0, 0, 0.15);\n",
              "      filter: drop-shadow(0px 1px 2px rgba(0, 0, 0, 0.3));\n",
              "      fill: #FFFFFF;\n",
              "    }\n",
              "  </style>\n",
              "\n",
              "      <script>\n",
              "        const buttonEl =\n",
              "          document.querySelector('#df-5f040a7a-d33e-4239-9c6a-1da81b7cfffe button.colab-df-convert');\n",
              "        buttonEl.style.display =\n",
              "          google.colab.kernel.accessAllowed ? 'block' : 'none';\n",
              "\n",
              "        async function convertToInteractive(key) {\n",
              "          const element = document.querySelector('#df-5f040a7a-d33e-4239-9c6a-1da81b7cfffe');\n",
              "          const dataTable =\n",
              "            await google.colab.kernel.invokeFunction('convertToInteractive',\n",
              "                                                     [key], {});\n",
              "          if (!dataTable) return;\n",
              "\n",
              "          const docLinkHtml = 'Like what you see? Visit the ' +\n",
              "            '<a target=\"_blank\" href=https://colab.research.google.com/notebooks/data_table.ipynb>data table notebook</a>'\n",
              "            + ' to learn more about interactive tables.';\n",
              "          element.innerHTML = '';\n",
              "          dataTable['output_type'] = 'display_data';\n",
              "          await google.colab.output.renderOutput(dataTable, element);\n",
              "          const docLink = document.createElement('div');\n",
              "          docLink.innerHTML = docLinkHtml;\n",
              "          element.appendChild(docLink);\n",
              "        }\n",
              "      </script>\n",
              "    </div>\n",
              "  </div>\n",
              "  "
            ]
          },
          "metadata": {},
          "execution_count": 55
        }
      ]
    },
    {
      "cell_type": "code",
      "source": [
        "plot_radars(data=X_scaled_clusters,\n",
        "            group=\"kmeans_label\")"
      ],
      "metadata": {
        "colab": {
          "base_uri": "https://localhost:8080/",
          "height": 542
        },
        "id": "id2kljd0m0AO",
        "outputId": "4ffdf022-6390-43a6-a22c-a0714b68fbcb"
      },
      "execution_count": null,
      "outputs": [
        {
          "output_type": "display_data",
          "data": {
            "text/html": [
              "<html>\n",
              "<head><meta charset=\"utf-8\" /></head>\n",
              "<body>\n",
              "    <div>            <script src=\"https://cdnjs.cloudflare.com/ajax/libs/mathjax/2.7.5/MathJax.js?config=TeX-AMS-MML_SVG\"></script><script type=\"text/javascript\">if (window.MathJax) {MathJax.Hub.Config({SVG: {font: \"STIX-Web\"}});}</script>                <script type=\"text/javascript\">window.PlotlyConfig = {MathJaxConfig: 'local'};</script>\n",
              "        <script src=\"https://cdn.plot.ly/plotly-2.8.3.min.js\"></script>                <div id=\"5e180b9c-3ac3-4c15-89df-bd2f75ffeb82\" class=\"plotly-graph-div\" style=\"height:525px; width:100%;\"></div>            <script type=\"text/javascript\">                                    window.PLOTLYENV=window.PLOTLYENV || {};                                    if (document.getElementById(\"5e180b9c-3ac3-4c15-89df-bd2f75ffeb82\")) {                    Plotly.newPlot(                        \"5e180b9c-3ac3-4c15-89df-bd2f75ffeb82\",                        [{\"fill\":\"toself\",\"name\":\"Cluster 0\",\"r\":[0.0,0.0,0.7785901885296509,0.6706825487288235,0.9917330550970955,0.12592237858450916,0.0026078848785444737,0.0,0.00013794335573765653,0.0,1.0000000000000002,0.0,0.0,0.0,0.9999999999999998,1.0,0.0,0.08468469214751462,0.5211599662536557,0.5241381044031046],\"theta\":[\"nb_orders\",\"total_spend\",\"mean_payment_sequential\",\"mean_payment_installments\",\"mean_review_score\",\"mean_delivery_days\",\"books_cds_media\",\"fashion_clothing_accessories\",\"flowers_gifts\",\"health_beauty\",\"other\",\"sport\",\"technology\",\"total_items\",\"order_mean_delay\",\"r_score\",\"f_score\",\"m_score\",\"freight_ratio\",\"harvesine_distance\"],\"type\":\"scatterpolar\"},{\"fill\":\"toself\",\"name\":\"Cluster 1\",\"r\":[0.8732760785730216,0.2251021538109148,0.0,0.0,0.8411572256285758,0.20809400834481395,0.0,0.0024417282338148175,0.0,0.0012791108232848255,0.0,1.0,0.0018237183763939882,0.46440226454134725,0.47597238080339804,0.48490736950591395,0.46440226454134725,0.0,0.4028710661314623,0.2348649783031691],\"theta\":[\"nb_orders\",\"total_spend\",\"mean_payment_sequential\",\"mean_payment_installments\",\"mean_review_score\",\"mean_delivery_days\",\"books_cds_media\",\"fashion_clothing_accessories\",\"flowers_gifts\",\"health_beauty\",\"other\",\"sport\",\"technology\",\"total_items\",\"order_mean_delay\",\"r_score\",\"f_score\",\"m_score\",\"freight_ratio\",\"harvesine_distance\"],\"type\":\"scatterpolar\"},{\"fill\":\"toself\",\"name\":\"Cluster 2\",\"r\":[1.0,0.471437606655968,0.3194551915347761,0.48254037979157083,1.0,0.0,0.0027588815325850953,0.003711470312313638,0.001564789302511028,0.002577107319649825,0.996185714974206,0.0014716807408632101,0.002047990708202705,0.521783246490239,0.0,0.0,0.521783246490239,0.22806357688688905,0.7793635597429756,0.0],\"theta\":[\"nb_orders\",\"total_spend\",\"mean_payment_sequential\",\"mean_payment_installments\",\"mean_review_score\",\"mean_delivery_days\",\"books_cds_media\",\"fashion_clothing_accessories\",\"flowers_gifts\",\"health_beauty\",\"other\",\"sport\",\"technology\",\"total_items\",\"order_mean_delay\",\"r_score\",\"f_score\",\"m_score\",\"freight_ratio\",\"harvesine_distance\"],\"type\":\"scatterpolar\"},{\"fill\":\"toself\",\"name\":\"Cluster 3\",\"r\":[0.774542714874638,0.31740738252882217,1.0,0.8936017826127687,0.8424767416083119,0.20630579424632933,0.9999999999999999,0.9999999999999999,1.0,1.0000000000000002,0.0002759190948889538,0.0006742564183428687,1.0,0.25282462600405653,0.6063307903311073,0.6107049136461407,0.25282462600405653,0.17733269519372197,0.0,0.5566442550563258],\"theta\":[\"nb_orders\",\"total_spend\",\"mean_payment_sequential\",\"mean_payment_installments\",\"mean_review_score\",\"mean_delivery_days\",\"books_cds_media\",\"fashion_clothing_accessories\",\"flowers_gifts\",\"health_beauty\",\"other\",\"sport\",\"technology\",\"total_items\",\"order_mean_delay\",\"r_score\",\"f_score\",\"m_score\",\"freight_ratio\",\"harvesine_distance\"],\"type\":\"scatterpolar\"},{\"fill\":\"toself\",\"name\":\"Cluster 4\",\"r\":[0.8391863687713421,1.0,0.5098869944828306,1.0,0.0,1.0,0.0,0.003739706278530203,0.0034845417056734176,0.0018092848616054005,0.9956335152467721,0.0016463812093520285,0.0015249163670957755,0.9999999999999996,0.4016111768983624,0.4061063947042757,0.9999999999999996,1.0,1.0,1.0],\"theta\":[\"nb_orders\",\"total_spend\",\"mean_payment_sequential\",\"mean_payment_installments\",\"mean_review_score\",\"mean_delivery_days\",\"books_cds_media\",\"fashion_clothing_accessories\",\"flowers_gifts\",\"health_beauty\",\"other\",\"sport\",\"technology\",\"total_items\",\"order_mean_delay\",\"r_score\",\"f_score\",\"m_score\",\"freight_ratio\",\"harvesine_distance\"],\"type\":\"scatterpolar\"}],                        {\"template\":{\"data\":{\"bar\":[{\"error_x\":{\"color\":\"#2a3f5f\"},\"error_y\":{\"color\":\"#2a3f5f\"},\"marker\":{\"line\":{\"color\":\"#E5ECF6\",\"width\":0.5},\"pattern\":{\"fillmode\":\"overlay\",\"size\":10,\"solidity\":0.2}},\"type\":\"bar\"}],\"barpolar\":[{\"marker\":{\"line\":{\"color\":\"#E5ECF6\",\"width\":0.5},\"pattern\":{\"fillmode\":\"overlay\",\"size\":10,\"solidity\":0.2}},\"type\":\"barpolar\"}],\"carpet\":[{\"aaxis\":{\"endlinecolor\":\"#2a3f5f\",\"gridcolor\":\"white\",\"linecolor\":\"white\",\"minorgridcolor\":\"white\",\"startlinecolor\":\"#2a3f5f\"},\"baxis\":{\"endlinecolor\":\"#2a3f5f\",\"gridcolor\":\"white\",\"linecolor\":\"white\",\"minorgridcolor\":\"white\",\"startlinecolor\":\"#2a3f5f\"},\"type\":\"carpet\"}],\"choropleth\":[{\"colorbar\":{\"outlinewidth\":0,\"ticks\":\"\"},\"type\":\"choropleth\"}],\"contour\":[{\"colorbar\":{\"outlinewidth\":0,\"ticks\":\"\"},\"colorscale\":[[0.0,\"#0d0887\"],[0.1111111111111111,\"#46039f\"],[0.2222222222222222,\"#7201a8\"],[0.3333333333333333,\"#9c179e\"],[0.4444444444444444,\"#bd3786\"],[0.5555555555555556,\"#d8576b\"],[0.6666666666666666,\"#ed7953\"],[0.7777777777777778,\"#fb9f3a\"],[0.8888888888888888,\"#fdca26\"],[1.0,\"#f0f921\"]],\"type\":\"contour\"}],\"contourcarpet\":[{\"colorbar\":{\"outlinewidth\":0,\"ticks\":\"\"},\"type\":\"contourcarpet\"}],\"heatmap\":[{\"colorbar\":{\"outlinewidth\":0,\"ticks\":\"\"},\"colorscale\":[[0.0,\"#0d0887\"],[0.1111111111111111,\"#46039f\"],[0.2222222222222222,\"#7201a8\"],[0.3333333333333333,\"#9c179e\"],[0.4444444444444444,\"#bd3786\"],[0.5555555555555556,\"#d8576b\"],[0.6666666666666666,\"#ed7953\"],[0.7777777777777778,\"#fb9f3a\"],[0.8888888888888888,\"#fdca26\"],[1.0,\"#f0f921\"]],\"type\":\"heatmap\"}],\"heatmapgl\":[{\"colorbar\":{\"outlinewidth\":0,\"ticks\":\"\"},\"colorscale\":[[0.0,\"#0d0887\"],[0.1111111111111111,\"#46039f\"],[0.2222222222222222,\"#7201a8\"],[0.3333333333333333,\"#9c179e\"],[0.4444444444444444,\"#bd3786\"],[0.5555555555555556,\"#d8576b\"],[0.6666666666666666,\"#ed7953\"],[0.7777777777777778,\"#fb9f3a\"],[0.8888888888888888,\"#fdca26\"],[1.0,\"#f0f921\"]],\"type\":\"heatmapgl\"}],\"histogram\":[{\"marker\":{\"pattern\":{\"fillmode\":\"overlay\",\"size\":10,\"solidity\":0.2}},\"type\":\"histogram\"}],\"histogram2d\":[{\"colorbar\":{\"outlinewidth\":0,\"ticks\":\"\"},\"colorscale\":[[0.0,\"#0d0887\"],[0.1111111111111111,\"#46039f\"],[0.2222222222222222,\"#7201a8\"],[0.3333333333333333,\"#9c179e\"],[0.4444444444444444,\"#bd3786\"],[0.5555555555555556,\"#d8576b\"],[0.6666666666666666,\"#ed7953\"],[0.7777777777777778,\"#fb9f3a\"],[0.8888888888888888,\"#fdca26\"],[1.0,\"#f0f921\"]],\"type\":\"histogram2d\"}],\"histogram2dcontour\":[{\"colorbar\":{\"outlinewidth\":0,\"ticks\":\"\"},\"colorscale\":[[0.0,\"#0d0887\"],[0.1111111111111111,\"#46039f\"],[0.2222222222222222,\"#7201a8\"],[0.3333333333333333,\"#9c179e\"],[0.4444444444444444,\"#bd3786\"],[0.5555555555555556,\"#d8576b\"],[0.6666666666666666,\"#ed7953\"],[0.7777777777777778,\"#fb9f3a\"],[0.8888888888888888,\"#fdca26\"],[1.0,\"#f0f921\"]],\"type\":\"histogram2dcontour\"}],\"mesh3d\":[{\"colorbar\":{\"outlinewidth\":0,\"ticks\":\"\"},\"type\":\"mesh3d\"}],\"parcoords\":[{\"line\":{\"colorbar\":{\"outlinewidth\":0,\"ticks\":\"\"}},\"type\":\"parcoords\"}],\"pie\":[{\"automargin\":true,\"type\":\"pie\"}],\"scatter\":[{\"marker\":{\"colorbar\":{\"outlinewidth\":0,\"ticks\":\"\"}},\"type\":\"scatter\"}],\"scatter3d\":[{\"line\":{\"colorbar\":{\"outlinewidth\":0,\"ticks\":\"\"}},\"marker\":{\"colorbar\":{\"outlinewidth\":0,\"ticks\":\"\"}},\"type\":\"scatter3d\"}],\"scattercarpet\":[{\"marker\":{\"colorbar\":{\"outlinewidth\":0,\"ticks\":\"\"}},\"type\":\"scattercarpet\"}],\"scattergeo\":[{\"marker\":{\"colorbar\":{\"outlinewidth\":0,\"ticks\":\"\"}},\"type\":\"scattergeo\"}],\"scattergl\":[{\"marker\":{\"colorbar\":{\"outlinewidth\":0,\"ticks\":\"\"}},\"type\":\"scattergl\"}],\"scattermapbox\":[{\"marker\":{\"colorbar\":{\"outlinewidth\":0,\"ticks\":\"\"}},\"type\":\"scattermapbox\"}],\"scatterpolar\":[{\"marker\":{\"colorbar\":{\"outlinewidth\":0,\"ticks\":\"\"}},\"type\":\"scatterpolar\"}],\"scatterpolargl\":[{\"marker\":{\"colorbar\":{\"outlinewidth\":0,\"ticks\":\"\"}},\"type\":\"scatterpolargl\"}],\"scatterternary\":[{\"marker\":{\"colorbar\":{\"outlinewidth\":0,\"ticks\":\"\"}},\"type\":\"scatterternary\"}],\"surface\":[{\"colorbar\":{\"outlinewidth\":0,\"ticks\":\"\"},\"colorscale\":[[0.0,\"#0d0887\"],[0.1111111111111111,\"#46039f\"],[0.2222222222222222,\"#7201a8\"],[0.3333333333333333,\"#9c179e\"],[0.4444444444444444,\"#bd3786\"],[0.5555555555555556,\"#d8576b\"],[0.6666666666666666,\"#ed7953\"],[0.7777777777777778,\"#fb9f3a\"],[0.8888888888888888,\"#fdca26\"],[1.0,\"#f0f921\"]],\"type\":\"surface\"}],\"table\":[{\"cells\":{\"fill\":{\"color\":\"#EBF0F8\"},\"line\":{\"color\":\"white\"}},\"header\":{\"fill\":{\"color\":\"#C8D4E3\"},\"line\":{\"color\":\"white\"}},\"type\":\"table\"}]},\"layout\":{\"annotationdefaults\":{\"arrowcolor\":\"#2a3f5f\",\"arrowhead\":0,\"arrowwidth\":1},\"autotypenumbers\":\"strict\",\"coloraxis\":{\"colorbar\":{\"outlinewidth\":0,\"ticks\":\"\"}},\"colorscale\":{\"diverging\":[[0,\"#8e0152\"],[0.1,\"#c51b7d\"],[0.2,\"#de77ae\"],[0.3,\"#f1b6da\"],[0.4,\"#fde0ef\"],[0.5,\"#f7f7f7\"],[0.6,\"#e6f5d0\"],[0.7,\"#b8e186\"],[0.8,\"#7fbc41\"],[0.9,\"#4d9221\"],[1,\"#276419\"]],\"sequential\":[[0.0,\"#0d0887\"],[0.1111111111111111,\"#46039f\"],[0.2222222222222222,\"#7201a8\"],[0.3333333333333333,\"#9c179e\"],[0.4444444444444444,\"#bd3786\"],[0.5555555555555556,\"#d8576b\"],[0.6666666666666666,\"#ed7953\"],[0.7777777777777778,\"#fb9f3a\"],[0.8888888888888888,\"#fdca26\"],[1.0,\"#f0f921\"]],\"sequentialminus\":[[0.0,\"#0d0887\"],[0.1111111111111111,\"#46039f\"],[0.2222222222222222,\"#7201a8\"],[0.3333333333333333,\"#9c179e\"],[0.4444444444444444,\"#bd3786\"],[0.5555555555555556,\"#d8576b\"],[0.6666666666666666,\"#ed7953\"],[0.7777777777777778,\"#fb9f3a\"],[0.8888888888888888,\"#fdca26\"],[1.0,\"#f0f921\"]]},\"colorway\":[\"#636efa\",\"#EF553B\",\"#00cc96\",\"#ab63fa\",\"#FFA15A\",\"#19d3f3\",\"#FF6692\",\"#B6E880\",\"#FF97FF\",\"#FECB52\"],\"font\":{\"color\":\"#2a3f5f\"},\"geo\":{\"bgcolor\":\"white\",\"lakecolor\":\"white\",\"landcolor\":\"#E5ECF6\",\"showlakes\":true,\"showland\":true,\"subunitcolor\":\"white\"},\"hoverlabel\":{\"align\":\"left\"},\"hovermode\":\"closest\",\"mapbox\":{\"style\":\"light\"},\"paper_bgcolor\":\"white\",\"plot_bgcolor\":\"#E5ECF6\",\"polar\":{\"angularaxis\":{\"gridcolor\":\"white\",\"linecolor\":\"white\",\"ticks\":\"\"},\"bgcolor\":\"#E5ECF6\",\"radialaxis\":{\"gridcolor\":\"white\",\"linecolor\":\"white\",\"ticks\":\"\"}},\"scene\":{\"xaxis\":{\"backgroundcolor\":\"#E5ECF6\",\"gridcolor\":\"white\",\"gridwidth\":2,\"linecolor\":\"white\",\"showbackground\":true,\"ticks\":\"\",\"zerolinecolor\":\"white\"},\"yaxis\":{\"backgroundcolor\":\"#E5ECF6\",\"gridcolor\":\"white\",\"gridwidth\":2,\"linecolor\":\"white\",\"showbackground\":true,\"ticks\":\"\",\"zerolinecolor\":\"white\"},\"zaxis\":{\"backgroundcolor\":\"#E5ECF6\",\"gridcolor\":\"white\",\"gridwidth\":2,\"linecolor\":\"white\",\"showbackground\":true,\"ticks\":\"\",\"zerolinecolor\":\"white\"}},\"shapedefaults\":{\"line\":{\"color\":\"#2a3f5f\"}},\"ternary\":{\"aaxis\":{\"gridcolor\":\"white\",\"linecolor\":\"white\",\"ticks\":\"\"},\"baxis\":{\"gridcolor\":\"white\",\"linecolor\":\"white\",\"ticks\":\"\"},\"bgcolor\":\"#E5ECF6\",\"caxis\":{\"gridcolor\":\"white\",\"linecolor\":\"white\",\"ticks\":\"\"}},\"title\":{\"x\":0.05},\"xaxis\":{\"automargin\":true,\"gridcolor\":\"white\",\"linecolor\":\"white\",\"ticks\":\"\",\"title\":{\"standoff\":15},\"zerolinecolor\":\"white\",\"zerolinewidth\":2},\"yaxis\":{\"automargin\":true,\"gridcolor\":\"white\",\"linecolor\":\"white\",\"ticks\":\"\",\"title\":{\"standoff\":15},\"zerolinecolor\":\"white\",\"zerolinewidth\":2}}},\"polar\":{\"radialaxis\":{\"visible\":true,\"range\":[0,1]}},\"title\":{\"font\":{\"color\":\"blue\",\"size\":18},\"text\":\"Comparaison des moyennes par variable des clusters\",\"y\":0.95,\"x\":0.5,\"xanchor\":\"center\",\"yanchor\":\"top\"},\"showlegend\":true},                        {\"responsive\": true}                    ).then(function(){\n",
              "                            \n",
              "var gd = document.getElementById('5e180b9c-3ac3-4c15-89df-bd2f75ffeb82');\n",
              "var x = new MutationObserver(function (mutations, observer) {{\n",
              "        var display = window.getComputedStyle(gd).display;\n",
              "        if (!display || display === 'none') {{\n",
              "            console.log([gd, 'removed!']);\n",
              "            Plotly.purge(gd);\n",
              "            observer.disconnect();\n",
              "        }}\n",
              "}});\n",
              "\n",
              "// Listen for the removal of the full notebook cells\n",
              "var notebookContainer = gd.closest('#notebook-container');\n",
              "if (notebookContainer) {{\n",
              "    x.observe(notebookContainer, {childList: true});\n",
              "}}\n",
              "\n",
              "// Listen for the clearing of the current output cell\n",
              "var outputEl = gd.closest('.output');\n",
              "if (outputEl) {{\n",
              "    x.observe(outputEl, {childList: true});\n",
              "}}\n",
              "\n",
              "                        })                };                            </script>        </div>\n",
              "</body>\n",
              "</html>"
            ]
          },
          "metadata": {}
        }
      ]
    },
    {
      "cell_type": "markdown",
      "source": [
        "Le poids des features de catégories de produits masque les autres axes de catégorisation, nous allons donc réaliser un nouveau K-Means en supprimant ces variables"
      ],
      "metadata": {
        "id": "E0OdJb6Ym3m_"
      }
    },
    {
      "cell_type": "markdown",
      "source": [
        "**Clustering sans les catégories produits**\n"
      ],
      "metadata": {
        "id": "eRQ5qiXHm7EW"
      }
    },
    {
      "cell_type": "code",
      "source": [
        "categories_col = ['books_cds_media',\n",
        "                  'fashion_clothing_accessories',\n",
        "                  'flowers_gifts',\n",
        "                  'health_beauty',\n",
        "                  'other',\n",
        "                  'sport',\n",
        "                  'technology']\n",
        "X_bis = X.drop(categories_col, axis=1)\n",
        "''' X_bis.head(3) '''\n",
        "''' 'groceries_food_drink',\n",
        "'home_furniture',\n",
        "'toys_baby' '''"
      ],
      "metadata": {
        "colab": {
          "base_uri": "https://localhost:8080/",
          "height": 36
        },
        "id": "ey8Cqt-dnAIS",
        "outputId": "a224807e-dd00-4f25-9141-4dc9a2845a10"
      },
      "execution_count": null,
      "outputs": [
        {
          "output_type": "execute_result",
          "data": {
            "text/plain": [
              "\" 'groceries_food_drink',\\n'home_furniture',\\n'toys_baby' \""
            ],
            "application/vnd.google.colaboratory.intrinsic+json": {
              "type": "string"
            }
          },
          "metadata": {},
          "execution_count": 58
        }
      ]
    },
    {
      "cell_type": "code",
      "source": [
        "def clustering_eval(preprocessor, model, data, metric, elbow=True, mds=False, KBest=None):\n",
        "    \n",
        "    if((elbow==True) & (mds==True)):\n",
        "        ncols=3\n",
        "    elif((elbow==False) | (mds==False)):\n",
        "        ncols=2\n",
        "    else:\n",
        "        ncols=1\n",
        "        \n",
        "    fig, axes = plt.subplots(nrows=1, ncols=ncols, sharex=False, sharey=False, figsize=(24,8))\n",
        "    \n",
        "    ax=0\n",
        "    if(elbow==True):\n",
        "        # Elbow visualizer\n",
        "        kmeans_visualizer = Pipeline([\n",
        "            (\"preprocessor\", preprocessor),\n",
        "            (\"kelbowvisualizer\", KElbowVisualizer(model,K=(4,12), metric=metric, ax=axes[ax]))])\n",
        "        kmeans_visualizer.fit(data)\n",
        "        KBest = kmeans_visualizer.named_steps['kelbowvisualizer'].elbow_value_\n",
        "        kmeans_visualizer.named_steps['kelbowvisualizer'].finalize()\n",
        "        ax+=1\n",
        "    \n",
        "    # Set best K\n",
        "    K = KBest\n",
        "    model.set_params(n_clusters=K)\n",
        "\n",
        "    # Silhouette Visualizer\n",
        "    silhouette_visualizer = Pipeline([\n",
        "        (\"preprocessor\", preprocessor),\n",
        "        (\"silhouettevisualizer\", SilhouetteVisualizer(model, ax=axes[ax]))])\n",
        "    silhouette_visualizer.fit(data)\n",
        "    silhouette_visualizer.named_steps['silhouettevisualizer'].finalize()\n",
        "    ax+=1\n",
        "    # Intercluster distance Map with best k\n",
        "    if(mds==True):\n",
        "        distance_visualizer = Pipeline([\n",
        "            (\"preprocessor\", preprocessor),\n",
        "            (\"distancevisualizer\", InterclusterDistance(model, ax=axes[ax]))])\n",
        "        distance_visualizer.fit(data)\n",
        "        distance_visualizer.named_steps['distancevisualizer'].finalize()\n",
        "    \n",
        "    return K\n",
        "    plt.show()"
      ],
      "metadata": {
        "id": "oYCBnTZTnIYR"
      },
      "execution_count": null,
      "outputs": []
    },
    {
      "cell_type": "code",
      "source": [
        "#drop favorite_sale_month\n",
        "X_bis = X_bis.drop('favorite_sale_month', axis=1)"
      ],
      "metadata": {
        "id": "WGHxEvsZxcml"
      },
      "execution_count": null,
      "outputs": []
    },
    {
      "cell_type": "code",
      "source": [
        "numerical_features = list(X_bis.select_dtypes(include=['int64','float64', 'uint8']).columns)\n",
        "numerical_features"
      ],
      "metadata": {
        "colab": {
          "base_uri": "https://localhost:8080/"
        },
        "id": "31OZ9JfO4WDs",
        "outputId": "46c56a33-15df-42fd-9206-a581cf404c1d"
      },
      "execution_count": null,
      "outputs": [
        {
          "output_type": "execute_result",
          "data": {
            "text/plain": [
              "['nb_orders',\n",
              " 'total_spend',\n",
              " 'mean_payment_sequential',\n",
              " 'mean_payment_installments',\n",
              " 'mean_review_score',\n",
              " 'mean_delivery_days',\n",
              " 'total_items',\n",
              " 'order_mean_delay',\n",
              " 'r_score',\n",
              " 'f_score',\n",
              " 'm_score',\n",
              " 'freight_ratio',\n",
              " 'harvesine_distance']"
            ]
          },
          "metadata": {},
          "execution_count": 72
        }
      ]
    },
    {
      "cell_type": "code",
      "source": [
        "scaler = MinMaxScaler()\n",
        "\n",
        "preprocessor = ColumnTransformer([\n",
        "    ('scaler', scaler, numerical_features)])"
      ],
      "metadata": {
        "id": "JZmbxPwv4V1p"
      },
      "execution_count": null,
      "outputs": []
    },
    {
      "cell_type": "code",
      "source": [
        "K = clustering_eval(preprocessor=MinMaxScaler(), \n",
        "                model=KMeans(), \n",
        "                data=X_bis, \n",
        "                metric=\"distortion\",\n",
        "                elbow=True,\n",
        "                mds=False,\n",
        "                KBest=None)"
      ],
      "metadata": {
        "colab": {
          "base_uri": "https://localhost:8080/",
          "height": 408
        },
        "id": "rQmBHPRUncUg",
        "outputId": "a2de1965-5cd8-41b3-e560-19724e3a3897"
      },
      "execution_count": null,
      "outputs": [
        {
          "output_type": "display_data",
          "data": {
            "text/plain": [
              "<Figure size 1728x576 with 3 Axes>"
            ],
            "image/png": "[encoded data removed]"
          },
          "metadata": {}
        }
      ]
    },
    {
      "cell_type": "code",
      "source": [
        "X_bis.info()"
      ],
      "metadata": {
        "colab": {
          "base_uri": "https://localhost:8080/"
        },
        "id": "HwE0rLf21ztl",
        "outputId": "9b020c9a-7ed3-4ab4-97ab-e03840a13dc2"
      },
      "execution_count": null,
      "outputs": [
        {
          "output_type": "stream",
          "name": "stdout",
          "text": [
            "<class 'pandas.core.frame.DataFrame'>\n",
            "Index: 96096 entries, 0000366f3b9a7992bf8c76cfdf3221e2 to ffffd2657e2aad2907e67c3e9daecbeb\n",
            "Data columns (total 13 columns):\n",
            " #   Column                     Non-Null Count  Dtype  \n",
            "---  ------                     --------------  -----  \n",
            " 0   nb_orders                  96096 non-null  int64  \n",
            " 1   total_spend                96096 non-null  float64\n",
            " 2   mean_payment_sequential    96096 non-null  float64\n",
            " 3   mean_payment_installments  96096 non-null  float64\n",
            " 4   mean_review_score          96096 non-null  float64\n",
            " 5   mean_delivery_days         96096 non-null  float64\n",
            " 6   total_items                96096 non-null  float64\n",
            " 7   order_mean_delay           96096 non-null  float64\n",
            " 8   r_score                    96096 non-null  float64\n",
            " 9   f_score                    96096 non-null  int64  \n",
            " 10  m_score                    96096 non-null  float64\n",
            " 11  freight_ratio              96096 non-null  float64\n",
            " 12  harvesine_distance         96096 non-null  float64\n",
            "dtypes: float64(11), int64(2)\n",
            "memory usage: 12.3+ MB\n"
          ]
        }
      ]
    },
    {
      "cell_type": "code",
      "source": [
        "# Intercluster distance Map with best k\n",
        "distance_visualizer = Pipeline([\n",
        "    (\"preprocessor\", preprocessor),\n",
        "    (\"distancevisualizer\", InterclusterDistance(KMeans(K)))])\n",
        "\n",
        "distance_visualizer.fit(X_bis)\n",
        "distance_visualizer.named_steps['distancevisualizer'].show()\n",
        "''' X_bis.head() '''"
      ],
      "metadata": {
        "colab": {
          "base_uri": "https://localhost:8080/",
          "height": 385
        },
        "id": "veWbMf-I0g3K",
        "outputId": "2da966e4-6ad9-432b-9b2c-3f605e7eb3f6"
      },
      "execution_count": null,
      "outputs": [
        {
          "output_type": "display_data",
          "data": {
            "text/plain": [
              "<Figure size 576x396 with 2 Axes>"
            ],
            "image/png": "[encoded data removed]"
          },
          "metadata": {}
        },
        {
          "output_type": "execute_result",
          "data": {
            "text/plain": [
              "' X_bis.head() '"
            ],
            "application/vnd.google.colaboratory.intrinsic+json": {
              "type": "string"
            }
          },
          "metadata": {},
          "execution_count": 74
        }
      ]
    },
    {
      "cell_type": "code",
      "source": [
        "# KMeans Pipeline with best K\n",
        "kmeans_model_bis = Pipeline([(\"preprocessor\", MinMaxScaler()),\n",
        "                             (\"kmeans\", KMeans(K))])\n",
        "kmeans_model_bis.fit(X_bis)\n",
        "\n",
        "# Kmeans labels\n",
        "kmeans_labels_bis = kmeans_model_bis.named_steps['kmeans'].labels_\n",
        "X_bis['kmeans_label'] = kmeans_labels_bis\n",
        "\n",
        "\n",
        "\n"
      ],
      "metadata": {
        "id": "CNHKHzScnheP"
      },
      "execution_count": null,
      "outputs": []
    },
    {
      "cell_type": "code",
      "source": [
        "kmeans_clusters_means_bis = X_bis.groupby(\"kmeans_label\").mean().reset_index()\n",
        "kmeans_clusters_means_bis"
      ],
      "metadata": {
        "colab": {
          "base_uri": "https://localhost:8080/",
          "height": 239
        },
        "id": "knKOQ-yp6E8N",
        "outputId": "86805a48-7192-4599-815d-b58b676cc97b"
      },
      "execution_count": null,
      "outputs": [
        {
          "output_type": "execute_result",
          "data": {
            "text/plain": [
              "   kmeans_label  nb_orders  total_spend  mean_payment_sequential  \\\n",
              "0             0   0.982553   192.016704                 1.046526   \n",
              "1             1   1.029067   183.040290                 1.044833   \n",
              "2             2   1.057290   159.051610                 1.037006   \n",
              "3             3   0.931765   142.891424                 1.047434   \n",
              "\n",
              "   mean_payment_installments  mean_review_score  mean_delivery_days  \\\n",
              "0                   3.322710           4.534009           18.192188   \n",
              "1                   3.141198           1.671153           18.948740   \n",
              "2                   2.737725           4.694109            9.795905   \n",
              "3                   2.900671           4.677028           10.799860   \n",
              "\n",
              "   total_items  order_mean_delay     r_score   f_score     m_score  \\\n",
              "0     1.076815        241.236728  245.804801  1.076815  190.638154   \n",
              "1     1.317562        227.329081  232.247199  1.317562  178.803482   \n",
              "2     1.181491        114.801781  121.432712  1.181491  151.130176   \n",
              "3     1.039563        381.576292  382.588047  1.039563  147.995204   \n",
              "\n",
              "   freight_ratio  harvesine_distance  \n",
              "0       0.265954         1393.111105  \n",
              "1       0.212416          450.127362  \n",
              "2       0.200784          314.316345  \n",
              "3       0.193178          331.574051  "
            ],
            "text/html": [
              "\n",
              "  <div id=\"df-e6b230ec-d762-4583-aafb-0efd507924b9\">\n",
              "    <div class=\"colab-df-container\">\n",
              "      <div>\n",
              "<style scoped>\n",
              "    .dataframe tbody tr th:only-of-type {\n",
              "        vertical-align: middle;\n",
              "    }\n",
              "\n",
              "    .dataframe tbody tr th {\n",
              "        vertical-align: top;\n",
              "    }\n",
              "\n",
              "    .dataframe thead th {\n",
              "        text-align: right;\n",
              "    }\n",
              "</style>\n",
              "<table border=\"1\" class=\"dataframe\">\n",
              "  <thead>\n",
              "    <tr style=\"text-align: right;\">\n",
              "      <th></th>\n",
              "      <th>kmeans_label</th>\n",
              "      <th>nb_orders</th>\n",
              "      <th>total_spend</th>\n",
              "      <th>mean_payment_sequential</th>\n",
              "      <th>mean_payment_installments</th>\n",
              "      <th>mean_review_score</th>\n",
              "      <th>mean_delivery_days</th>\n",
              "      <th>total_items</th>\n",
              "      <th>order_mean_delay</th>\n",
              "      <th>r_score</th>\n",
              "      <th>f_score</th>\n",
              "      <th>m_score</th>\n",
              "      <th>freight_ratio</th>\n",
              "      <th>harvesine_distance</th>\n",
              "    </tr>\n",
              "  </thead>\n",
              "  <tbody>\n",
              "    <tr>\n",
              "      <th>0</th>\n",
              "      <td>0</td>\n",
              "      <td>0.982553</td>\n",
              "      <td>192.016704</td>\n",
              "      <td>1.046526</td>\n",
              "      <td>3.322710</td>\n",
              "      <td>4.534009</td>\n",
              "      <td>18.192188</td>\n",
              "      <td>1.076815</td>\n",
              "      <td>241.236728</td>\n",
              "      <td>245.804801</td>\n",
              "      <td>1.076815</td>\n",
              "      <td>190.638154</td>\n",
              "      <td>0.265954</td>\n",
              "      <td>1393.111105</td>\n",
              "    </tr>\n",
              "    <tr>\n",
              "      <th>1</th>\n",
              "      <td>1</td>\n",
              "      <td>1.029067</td>\n",
              "      <td>183.040290</td>\n",
              "      <td>1.044833</td>\n",
              "      <td>3.141198</td>\n",
              "      <td>1.671153</td>\n",
              "      <td>18.948740</td>\n",
              "      <td>1.317562</td>\n",
              "      <td>227.329081</td>\n",
              "      <td>232.247199</td>\n",
              "      <td>1.317562</td>\n",
              "      <td>178.803482</td>\n",
              "      <td>0.212416</td>\n",
              "      <td>450.127362</td>\n",
              "    </tr>\n",
              "    <tr>\n",
              "      <th>2</th>\n",
              "      <td>2</td>\n",
              "      <td>1.057290</td>\n",
              "      <td>159.051610</td>\n",
              "      <td>1.037006</td>\n",
              "      <td>2.737725</td>\n",
              "      <td>4.694109</td>\n",
              "      <td>9.795905</td>\n",
              "      <td>1.181491</td>\n",
              "      <td>114.801781</td>\n",
              "      <td>121.432712</td>\n",
              "      <td>1.181491</td>\n",
              "      <td>151.130176</td>\n",
              "      <td>0.200784</td>\n",
              "      <td>314.316345</td>\n",
              "    </tr>\n",
              "    <tr>\n",
              "      <th>3</th>\n",
              "      <td>3</td>\n",
              "      <td>0.931765</td>\n",
              "      <td>142.891424</td>\n",
              "      <td>1.047434</td>\n",
              "      <td>2.900671</td>\n",
              "      <td>4.677028</td>\n",
              "      <td>10.799860</td>\n",
              "      <td>1.039563</td>\n",
              "      <td>381.576292</td>\n",
              "      <td>382.588047</td>\n",
              "      <td>1.039563</td>\n",
              "      <td>147.995204</td>\n",
              "      <td>0.193178</td>\n",
              "      <td>331.574051</td>\n",
              "    </tr>\n",
              "  </tbody>\n",
              "</table>\n",
              "</div>\n",
              "      <button class=\"colab-df-convert\" onclick=\"convertToInteractive('df-e6b230ec-d762-4583-aafb-0efd507924b9')\"\n",
              "              title=\"Convert this dataframe to an interactive table.\"\n",
              "              style=\"display:none;\">\n",
              "        \n",
              "  <svg xmlns=\"http://www.w3.org/2000/svg\" height=\"24px\"viewBox=\"0 0 24 24\"\n",
              "       width=\"24px\">\n",
              "    <path d=\"M0 0h24v24H0V0z\" fill=\"none\"/>\n",
              "    <path d=\"M18.56 5.44l.94 2.06.94-2.06 2.06-.94-2.06-.94-.94-2.06-.94 2.06-2.06.94zm-11 1L8.5 8.5l.94-2.06 2.06-.94-2.06-.94L8.5 2.5l-.94 2.06-2.06.94zm10 10l.94 2.06.94-2.06 2.06-.94-2.06-.94-.94-2.06-.94 2.06-2.06.94z\"/><path d=\"M17.41 7.96l-1.37-1.37c-.4-.4-.92-.59-1.43-.59-.52 0-1.04.2-1.43.59L10.3 9.45l-7.72 7.72c-.78.78-.78 2.05 0 2.83L4 21.41c.39.39.9.59 1.41.59.51 0 1.02-.2 1.41-.59l7.78-7.78 2.81-2.81c.8-.78.8-2.07 0-2.86zM5.41 20L4 18.59l7.72-7.72 1.47 1.35L5.41 20z\"/>\n",
              "  </svg>\n",
              "      </button>\n",
              "      \n",
              "  <style>\n",
              "    .colab-df-container {\n",
              "      display:flex;\n",
              "      flex-wrap:wrap;\n",
              "      gap: 12px;\n",
              "    }\n",
              "\n",
              "    .colab-df-convert {\n",
              "      background-color: #E8F0FE;\n",
              "      border: none;\n",
              "      border-radius: 50%;\n",
              "      cursor: pointer;\n",
              "      display: none;\n",
              "      fill: #1967D2;\n",
              "      height: 32px;\n",
              "      padding: 0 0 0 0;\n",
              "      width: 32px;\n",
              "    }\n",
              "\n",
              "    .colab-df-convert:hover {\n",
              "      background-color: #E2EBFA;\n",
              "      box-shadow: 0px 1px 2px rgba(60, 64, 67, 0.3), 0px 1px 3px 1px rgba(60, 64, 67, 0.15);\n",
              "      fill: #174EA6;\n",
              "    }\n",
              "\n",
              "    [theme=dark] .colab-df-convert {\n",
              "      background-color: #3B4455;\n",
              "      fill: #D2E3FC;\n",
              "    }\n",
              "\n",
              "    [theme=dark] .colab-df-convert:hover {\n",
              "      background-color: #434B5C;\n",
              "      box-shadow: 0px 1px 3px 1px rgba(0, 0, 0, 0.15);\n",
              "      filter: drop-shadow(0px 1px 2px rgba(0, 0, 0, 0.3));\n",
              "      fill: #FFFFFF;\n",
              "    }\n",
              "  </style>\n",
              "\n",
              "      <script>\n",
              "        const buttonEl =\n",
              "          document.querySelector('#df-e6b230ec-d762-4583-aafb-0efd507924b9 button.colab-df-convert');\n",
              "        buttonEl.style.display =\n",
              "          google.colab.kernel.accessAllowed ? 'block' : 'none';\n",
              "\n",
              "        async function convertToInteractive(key) {\n",
              "          const element = document.querySelector('#df-e6b230ec-d762-4583-aafb-0efd507924b9');\n",
              "          const dataTable =\n",
              "            await google.colab.kernel.invokeFunction('convertToInteractive',\n",
              "                                                     [key], {});\n",
              "          if (!dataTable) return;\n",
              "\n",
              "          const docLinkHtml = 'Like what you see? Visit the ' +\n",
              "            '<a target=\"_blank\" href=https://colab.research.google.com/notebooks/data_table.ipynb>data table notebook</a>'\n",
              "            + ' to learn more about interactive tables.';\n",
              "          element.innerHTML = '';\n",
              "          dataTable['output_type'] = 'display_data';\n",
              "          await google.colab.output.renderOutput(dataTable, element);\n",
              "          const docLink = document.createElement('div');\n",
              "          docLink.innerHTML = docLinkHtml;\n",
              "          element.appendChild(docLink);\n",
              "        }\n",
              "      </script>\n",
              "    </div>\n",
              "  </div>\n",
              "  "
            ]
          },
          "metadata": {},
          "execution_count": 79
        }
      ]
    },
    {
      "cell_type": "code",
      "source": [
        "# Scale X\n",
        "scaler = MinMaxScaler()\n",
        "X_scaled_bis = scaler.fit_transform(X_bis)\n",
        "X_scaled_bis = pd.DataFrame(X_scaled_bis, index=X_bis.index, columns=X_bis.columns)\n",
        "X_scaled_bis[\"kmeans_label\"] = kmeans_labels_bis\n",
        "\n",
        "# Group by cluster\n",
        "X_scaled_clusters_bis = X_scaled_bis.groupby(\"kmeans_label\").mean()\n",
        "X_scaled_clusters_bis"
      ],
      "metadata": {
        "colab": {
          "base_uri": "https://localhost:8080/",
          "height": 270
        },
        "id": "GZvqVVHE6JeQ",
        "outputId": "dfc851cf-4a13-4965-ce7b-7a6e84f818a4"
      },
      "execution_count": null,
      "outputs": [
        {
          "output_type": "execute_result",
          "data": {
            "text/plain": [
              "              nb_orders  total_spend  mean_payment_sequential  \\\n",
              "kmeans_label                                                    \n",
              "0              0.065504     0.014053                 0.001861   \n",
              "1              0.068604     0.013396                 0.001793   \n",
              "2              0.070486     0.011640                 0.001480   \n",
              "3              0.062118     0.010457                 0.001897   \n",
              "\n",
              "              mean_payment_installments  mean_review_score  \\\n",
              "kmeans_label                                                 \n",
              "0                              0.127797           0.883502   \n",
              "1                              0.120815           0.167788   \n",
              "2                              0.105297           0.923527   \n",
              "3                              0.111564           0.919257   \n",
              "\n",
              "              mean_delivery_days  total_items  order_mean_delay   r_score  \\\n",
              "kmeans_label                                                                \n",
              "0                       0.082259     0.044867          0.347103  0.354186   \n",
              "1                       0.085879     0.054898          0.327092  0.334650   \n",
              "2                       0.042086     0.049229          0.165182  0.174975   \n",
              "3                       0.046889     0.043315          0.549031  0.551280   \n",
              "\n",
              "               f_score   m_score  freight_ratio  harvesine_distance  \n",
              "kmeans_label                                                         \n",
              "0             0.044867  0.013259       0.277036            0.649164  \n",
              "1             0.054898  0.012393       0.221266            0.172616  \n",
              "2             0.049229  0.010366       0.209150            0.103983  \n",
              "3             0.043315  0.010136       0.201227            0.112704  "
            ],
            "text/html": [
              "\n",
              "  <div id=\"df-25a51819-9fbe-4b83-a509-5b05e29c6ea8\">\n",
              "    <div class=\"colab-df-container\">\n",
              "      <div>\n",
              "<style scoped>\n",
              "    .dataframe tbody tr th:only-of-type {\n",
              "        vertical-align: middle;\n",
              "    }\n",
              "\n",
              "    .dataframe tbody tr th {\n",
              "        vertical-align: top;\n",
              "    }\n",
              "\n",
              "    .dataframe thead th {\n",
              "        text-align: right;\n",
              "    }\n",
              "</style>\n",
              "<table border=\"1\" class=\"dataframe\">\n",
              "  <thead>\n",
              "    <tr style=\"text-align: right;\">\n",
              "      <th></th>\n",
              "      <th>nb_orders</th>\n",
              "      <th>total_spend</th>\n",
              "      <th>mean_payment_sequential</th>\n",
              "      <th>mean_payment_installments</th>\n",
              "      <th>mean_review_score</th>\n",
              "      <th>mean_delivery_days</th>\n",
              "      <th>total_items</th>\n",
              "      <th>order_mean_delay</th>\n",
              "      <th>r_score</th>\n",
              "      <th>f_score</th>\n",
              "      <th>m_score</th>\n",
              "      <th>freight_ratio</th>\n",
              "      <th>harvesine_distance</th>\n",
              "    </tr>\n",
              "    <tr>\n",
              "      <th>kmeans_label</th>\n",
              "      <th></th>\n",
              "      <th></th>\n",
              "      <th></th>\n",
              "      <th></th>\n",
              "      <th></th>\n",
              "      <th></th>\n",
              "      <th></th>\n",
              "      <th></th>\n",
              "      <th></th>\n",
              "      <th></th>\n",
              "      <th></th>\n",
              "      <th></th>\n",
              "      <th></th>\n",
              "    </tr>\n",
              "  </thead>\n",
              "  <tbody>\n",
              "    <tr>\n",
              "      <th>0</th>\n",
              "      <td>0.065504</td>\n",
              "      <td>0.014053</td>\n",
              "      <td>0.001861</td>\n",
              "      <td>0.127797</td>\n",
              "      <td>0.883502</td>\n",
              "      <td>0.082259</td>\n",
              "      <td>0.044867</td>\n",
              "      <td>0.347103</td>\n",
              "      <td>0.354186</td>\n",
              "      <td>0.044867</td>\n",
              "      <td>0.013259</td>\n",
              "      <td>0.277036</td>\n",
              "      <td>0.649164</td>\n",
              "    </tr>\n",
              "    <tr>\n",
              "      <th>1</th>\n",
              "      <td>0.068604</td>\n",
              "      <td>0.013396</td>\n",
              "      <td>0.001793</td>\n",
              "      <td>0.120815</td>\n",
              "      <td>0.167788</td>\n",
              "      <td>0.085879</td>\n",
              "      <td>0.054898</td>\n",
              "      <td>0.327092</td>\n",
              "      <td>0.334650</td>\n",
              "      <td>0.054898</td>\n",
              "      <td>0.012393</td>\n",
              "      <td>0.221266</td>\n",
              "      <td>0.172616</td>\n",
              "    </tr>\n",
              "    <tr>\n",
              "      <th>2</th>\n",
              "      <td>0.070486</td>\n",
              "      <td>0.011640</td>\n",
              "      <td>0.001480</td>\n",
              "      <td>0.105297</td>\n",
              "      <td>0.923527</td>\n",
              "      <td>0.042086</td>\n",
              "      <td>0.049229</td>\n",
              "      <td>0.165182</td>\n",
              "      <td>0.174975</td>\n",
              "      <td>0.049229</td>\n",
              "      <td>0.010366</td>\n",
              "      <td>0.209150</td>\n",
              "      <td>0.103983</td>\n",
              "    </tr>\n",
              "    <tr>\n",
              "      <th>3</th>\n",
              "      <td>0.062118</td>\n",
              "      <td>0.010457</td>\n",
              "      <td>0.001897</td>\n",
              "      <td>0.111564</td>\n",
              "      <td>0.919257</td>\n",
              "      <td>0.046889</td>\n",
              "      <td>0.043315</td>\n",
              "      <td>0.549031</td>\n",
              "      <td>0.551280</td>\n",
              "      <td>0.043315</td>\n",
              "      <td>0.010136</td>\n",
              "      <td>0.201227</td>\n",
              "      <td>0.112704</td>\n",
              "    </tr>\n",
              "  </tbody>\n",
              "</table>\n",
              "</div>\n",
              "      <button class=\"colab-df-convert\" onclick=\"convertToInteractive('df-25a51819-9fbe-4b83-a509-5b05e29c6ea8')\"\n",
              "              title=\"Convert this dataframe to an interactive table.\"\n",
              "              style=\"display:none;\">\n",
              "        \n",
              "  <svg xmlns=\"http://www.w3.org/2000/svg\" height=\"24px\"viewBox=\"0 0 24 24\"\n",
              "       width=\"24px\">\n",
              "    <path d=\"M0 0h24v24H0V0z\" fill=\"none\"/>\n",
              "    <path d=\"M18.56 5.44l.94 2.06.94-2.06 2.06-.94-2.06-.94-.94-2.06-.94 2.06-2.06.94zm-11 1L8.5 8.5l.94-2.06 2.06-.94-2.06-.94L8.5 2.5l-.94 2.06-2.06.94zm10 10l.94 2.06.94-2.06 2.06-.94-2.06-.94-.94-2.06-.94 2.06-2.06.94z\"/><path d=\"M17.41 7.96l-1.37-1.37c-.4-.4-.92-.59-1.43-.59-.52 0-1.04.2-1.43.59L10.3 9.45l-7.72 7.72c-.78.78-.78 2.05 0 2.83L4 21.41c.39.39.9.59 1.41.59.51 0 1.02-.2 1.41-.59l7.78-7.78 2.81-2.81c.8-.78.8-2.07 0-2.86zM5.41 20L4 18.59l7.72-7.72 1.47 1.35L5.41 20z\"/>\n",
              "  </svg>\n",
              "      </button>\n",
              "      \n",
              "  <style>\n",
              "    .colab-df-container {\n",
              "      display:flex;\n",
              "      flex-wrap:wrap;\n",
              "      gap: 12px;\n",
              "    }\n",
              "\n",
              "    .colab-df-convert {\n",
              "      background-color: #E8F0FE;\n",
              "      border: none;\n",
              "      border-radius: 50%;\n",
              "      cursor: pointer;\n",
              "      display: none;\n",
              "      fill: #1967D2;\n",
              "      height: 32px;\n",
              "      padding: 0 0 0 0;\n",
              "      width: 32px;\n",
              "    }\n",
              "\n",
              "    .colab-df-convert:hover {\n",
              "      background-color: #E2EBFA;\n",
              "      box-shadow: 0px 1px 2px rgba(60, 64, 67, 0.3), 0px 1px 3px 1px rgba(60, 64, 67, 0.15);\n",
              "      fill: #174EA6;\n",
              "    }\n",
              "\n",
              "    [theme=dark] .colab-df-convert {\n",
              "      background-color: #3B4455;\n",
              "      fill: #D2E3FC;\n",
              "    }\n",
              "\n",
              "    [theme=dark] .colab-df-convert:hover {\n",
              "      background-color: #434B5C;\n",
              "      box-shadow: 0px 1px 3px 1px rgba(0, 0, 0, 0.15);\n",
              "      filter: drop-shadow(0px 1px 2px rgba(0, 0, 0, 0.3));\n",
              "      fill: #FFFFFF;\n",
              "    }\n",
              "  </style>\n",
              "\n",
              "      <script>\n",
              "        const buttonEl =\n",
              "          document.querySelector('#df-25a51819-9fbe-4b83-a509-5b05e29c6ea8 button.colab-df-convert');\n",
              "        buttonEl.style.display =\n",
              "          google.colab.kernel.accessAllowed ? 'block' : 'none';\n",
              "\n",
              "        async function convertToInteractive(key) {\n",
              "          const element = document.querySelector('#df-25a51819-9fbe-4b83-a509-5b05e29c6ea8');\n",
              "          const dataTable =\n",
              "            await google.colab.kernel.invokeFunction('convertToInteractive',\n",
              "                                                     [key], {});\n",
              "          if (!dataTable) return;\n",
              "\n",
              "          const docLinkHtml = 'Like what you see? Visit the ' +\n",
              "            '<a target=\"_blank\" href=https://colab.research.google.com/notebooks/data_table.ipynb>data table notebook</a>'\n",
              "            + ' to learn more about interactive tables.';\n",
              "          element.innerHTML = '';\n",
              "          dataTable['output_type'] = 'display_data';\n",
              "          await google.colab.output.renderOutput(dataTable, element);\n",
              "          const docLink = document.createElement('div');\n",
              "          docLink.innerHTML = docLinkHtml;\n",
              "          element.appendChild(docLink);\n",
              "        }\n",
              "      </script>\n",
              "    </div>\n",
              "  </div>\n",
              "  "
            ]
          },
          "metadata": {},
          "execution_count": 80
        }
      ]
    },
    {
      "cell_type": "code",
      "source": [
        "# Plot Radar chart\n",
        "plot_radars(data=X_scaled_clusters_bis,\n",
        "            group=\"kmeans_label\")"
      ],
      "metadata": {
        "colab": {
          "base_uri": "https://localhost:8080/",
          "height": 542
        },
        "id": "39o-T98h5K95",
        "outputId": "43aada95-7b71-4bc2-da87-2c3fedb1e69d"
      },
      "execution_count": null,
      "outputs": [
        {
          "output_type": "display_data",
          "data": {
            "text/html": [
              "<html>\n",
              "<head><meta charset=\"utf-8\" /></head>\n",
              "<body>\n",
              "    <div>            <script src=\"https://cdnjs.cloudflare.com/ajax/libs/mathjax/2.7.5/MathJax.js?config=TeX-AMS-MML_SVG\"></script><script type=\"text/javascript\">if (window.MathJax) {MathJax.Hub.Config({SVG: {font: \"STIX-Web\"}});}</script>                <script type=\"text/javascript\">window.PlotlyConfig = {MathJaxConfig: 'local'};</script>\n",
              "        <script src=\"https://cdn.plot.ly/plotly-2.8.3.min.js\"></script>                <div id=\"97b1c610-bc94-4a0a-9f69-1784a4ad0455\" class=\"plotly-graph-div\" style=\"height:525px; width:100%;\"></div>            <script type=\"text/javascript\">                                    window.PLOTLYENV=window.PLOTLYENV || {};                                    if (document.getElementById(\"97b1c610-bc94-4a0a-9f69-1784a4ad0455\")) {                    Plotly.newPlot(                        \"97b1c610-bc94-4a0a-9f69-1784a4ad0455\",                        [{\"fill\":\"toself\",\"name\":\"Cluster 0\",\"r\":[0.4045996964328049,1.0,0.9129088715265836,1.0,0.9470386942587073,0.9173422561915192,0.13400015777001606,0.47393938211657033,0.4762379781114148,0.13400015777001606,0.9999999999999996,0.9999999999999996,1.0],\"theta\":[\"nb_orders\",\"total_spend\",\"mean_payment_sequential\",\"mean_payment_installments\",\"mean_review_score\",\"mean_delivery_days\",\"total_items\",\"order_mean_delay\",\"r_score\",\"f_score\",\"m_score\",\"freight_ratio\",\"harvesine_distance\"],\"type\":\"scatterpolar\"},{\"fill\":\"toself\",\"name\":\"Cluster 1\",\"r\":[0.7751589034296265,0.8172750617433504,0.7505651636778823,0.6897146656524145,0.0,1.0,1.0000000000000004,0.42180679041484687,0.4243240395896476,1.0000000000000004,0.722470597980652,0.26434166154789995,0.1258914318263564],\"theta\":[\"nb_orders\",\"total_spend\",\"mean_payment_sequential\",\"mean_payment_installments\",\"mean_review_score\",\"mean_delivery_days\",\"total_items\",\"order_mean_delay\",\"r_score\",\"f_score\",\"m_score\",\"freight_ratio\",\"harvesine_distance\"],\"type\":\"scatterpolar\"},{\"fill\":\"toself\",\"name\":\"Cluster 2\",\"r\":[0.9999999999999991,0.3289586549150041,0.0,0.0,0.9999999999999999,0.0,0.5105334496628884,0.0,0.0,0.5105334496628884,0.07351675286203818,0.10451045299377926,0.0],\"theta\":[\"nb_orders\",\"total_spend\",\"mean_payment_sequential\",\"mean_payment_installments\",\"mean_review_score\",\"mean_delivery_days\",\"total_items\",\"order_mean_delay\",\"r_score\",\"f_score\",\"m_score\",\"freight_ratio\",\"harvesine_distance\"],\"type\":\"scatterpolar\"},{\"fill\":\"toself\",\"name\":\"Cluster 3\",\"r\":[0.0,0.0,0.9999999999999996,0.2785467148549561,0.9943496727559168,0.10968793543018207,0.0,0.9999999999999998,0.9999999999999999,0.0,0.0,0.0,0.01599720996539042],\"theta\":[\"nb_orders\",\"total_spend\",\"mean_payment_sequential\",\"mean_payment_installments\",\"mean_review_score\",\"mean_delivery_days\",\"total_items\",\"order_mean_delay\",\"r_score\",\"f_score\",\"m_score\",\"freight_ratio\",\"harvesine_distance\"],\"type\":\"scatterpolar\"}],                        {\"template\":{\"data\":{\"bar\":[{\"error_x\":{\"color\":\"#2a3f5f\"},\"error_y\":{\"color\":\"#2a3f5f\"},\"marker\":{\"line\":{\"color\":\"#E5ECF6\",\"width\":0.5},\"pattern\":{\"fillmode\":\"overlay\",\"size\":10,\"solidity\":0.2}},\"type\":\"bar\"}],\"barpolar\":[{\"marker\":{\"line\":{\"color\":\"#E5ECF6\",\"width\":0.5},\"pattern\":{\"fillmode\":\"overlay\",\"size\":10,\"solidity\":0.2}},\"type\":\"barpolar\"}],\"carpet\":[{\"aaxis\":{\"endlinecolor\":\"#2a3f5f\",\"gridcolor\":\"white\",\"linecolor\":\"white\",\"minorgridcolor\":\"white\",\"startlinecolor\":\"#2a3f5f\"},\"baxis\":{\"endlinecolor\":\"#2a3f5f\",\"gridcolor\":\"white\",\"linecolor\":\"white\",\"minorgridcolor\":\"white\",\"startlinecolor\":\"#2a3f5f\"},\"type\":\"carpet\"}],\"choropleth\":[{\"colorbar\":{\"outlinewidth\":0,\"ticks\":\"\"},\"type\":\"choropleth\"}],\"contour\":[{\"colorbar\":{\"outlinewidth\":0,\"ticks\":\"\"},\"colorscale\":[[0.0,\"#0d0887\"],[0.1111111111111111,\"#46039f\"],[0.2222222222222222,\"#7201a8\"],[0.3333333333333333,\"#9c179e\"],[0.4444444444444444,\"#bd3786\"],[0.5555555555555556,\"#d8576b\"],[0.6666666666666666,\"#ed7953\"],[0.7777777777777778,\"#fb9f3a\"],[0.8888888888888888,\"#fdca26\"],[1.0,\"#f0f921\"]],\"type\":\"contour\"}],\"contourcarpet\":[{\"colorbar\":{\"outlinewidth\":0,\"ticks\":\"\"},\"type\":\"contourcarpet\"}],\"heatmap\":[{\"colorbar\":{\"outlinewidth\":0,\"ticks\":\"\"},\"colorscale\":[[0.0,\"#0d0887\"],[0.1111111111111111,\"#46039f\"],[0.2222222222222222,\"#7201a8\"],[0.3333333333333333,\"#9c179e\"],[0.4444444444444444,\"#bd3786\"],[0.5555555555555556,\"#d8576b\"],[0.6666666666666666,\"#ed7953\"],[0.7777777777777778,\"#fb9f3a\"],[0.8888888888888888,\"#fdca26\"],[1.0,\"#f0f921\"]],\"type\":\"heatmap\"}],\"heatmapgl\":[{\"colorbar\":{\"outlinewidth\":0,\"ticks\":\"\"},\"colorscale\":[[0.0,\"#0d0887\"],[0.1111111111111111,\"#46039f\"],[0.2222222222222222,\"#7201a8\"],[0.3333333333333333,\"#9c179e\"],[0.4444444444444444,\"#bd3786\"],[0.5555555555555556,\"#d8576b\"],[0.6666666666666666,\"#ed7953\"],[0.7777777777777778,\"#fb9f3a\"],[0.8888888888888888,\"#fdca26\"],[1.0,\"#f0f921\"]],\"type\":\"heatmapgl\"}],\"histogram\":[{\"marker\":{\"pattern\":{\"fillmode\":\"overlay\",\"size\":10,\"solidity\":0.2}},\"type\":\"histogram\"}],\"histogram2d\":[{\"colorbar\":{\"outlinewidth\":0,\"ticks\":\"\"},\"colorscale\":[[0.0,\"#0d0887\"],[0.1111111111111111,\"#46039f\"],[0.2222222222222222,\"#7201a8\"],[0.3333333333333333,\"#9c179e\"],[0.4444444444444444,\"#bd3786\"],[0.5555555555555556,\"#d8576b\"],[0.6666666666666666,\"#ed7953\"],[0.7777777777777778,\"#fb9f3a\"],[0.8888888888888888,\"#fdca26\"],[1.0,\"#f0f921\"]],\"type\":\"histogram2d\"}],\"histogram2dcontour\":[{\"colorbar\":{\"outlinewidth\":0,\"ticks\":\"\"},\"colorscale\":[[0.0,\"#0d0887\"],[0.1111111111111111,\"#46039f\"],[0.2222222222222222,\"#7201a8\"],[0.3333333333333333,\"#9c179e\"],[0.4444444444444444,\"#bd3786\"],[0.5555555555555556,\"#d8576b\"],[0.6666666666666666,\"#ed7953\"],[0.7777777777777778,\"#fb9f3a\"],[0.8888888888888888,\"#fdca26\"],[1.0,\"#f0f921\"]],\"type\":\"histogram2dcontour\"}],\"mesh3d\":[{\"colorbar\":{\"outlinewidth\":0,\"ticks\":\"\"},\"type\":\"mesh3d\"}],\"parcoords\":[{\"line\":{\"colorbar\":{\"outlinewidth\":0,\"ticks\":\"\"}},\"type\":\"parcoords\"}],\"pie\":[{\"automargin\":true,\"type\":\"pie\"}],\"scatter\":[{\"marker\":{\"colorbar\":{\"outlinewidth\":0,\"ticks\":\"\"}},\"type\":\"scatter\"}],\"scatter3d\":[{\"line\":{\"colorbar\":{\"outlinewidth\":0,\"ticks\":\"\"}},\"marker\":{\"colorbar\":{\"outlinewidth\":0,\"ticks\":\"\"}},\"type\":\"scatter3d\"}],\"scattercarpet\":[{\"marker\":{\"colorbar\":{\"outlinewidth\":0,\"ticks\":\"\"}},\"type\":\"scattercarpet\"}],\"scattergeo\":[{\"marker\":{\"colorbar\":{\"outlinewidth\":0,\"ticks\":\"\"}},\"type\":\"scattergeo\"}],\"scattergl\":[{\"marker\":{\"colorbar\":{\"outlinewidth\":0,\"ticks\":\"\"}},\"type\":\"scattergl\"}],\"scattermapbox\":[{\"marker\":{\"colorbar\":{\"outlinewidth\":0,\"ticks\":\"\"}},\"type\":\"scattermapbox\"}],\"scatterpolar\":[{\"marker\":{\"colorbar\":{\"outlinewidth\":0,\"ticks\":\"\"}},\"type\":\"scatterpolar\"}],\"scatterpolargl\":[{\"marker\":{\"colorbar\":{\"outlinewidth\":0,\"ticks\":\"\"}},\"type\":\"scatterpolargl\"}],\"scatterternary\":[{\"marker\":{\"colorbar\":{\"outlinewidth\":0,\"ticks\":\"\"}},\"type\":\"scatterternary\"}],\"surface\":[{\"colorbar\":{\"outlinewidth\":0,\"ticks\":\"\"},\"colorscale\":[[0.0,\"#0d0887\"],[0.1111111111111111,\"#46039f\"],[0.2222222222222222,\"#7201a8\"],[0.3333333333333333,\"#9c179e\"],[0.4444444444444444,\"#bd3786\"],[0.5555555555555556,\"#d8576b\"],[0.6666666666666666,\"#ed7953\"],[0.7777777777777778,\"#fb9f3a\"],[0.8888888888888888,\"#fdca26\"],[1.0,\"#f0f921\"]],\"type\":\"surface\"}],\"table\":[{\"cells\":{\"fill\":{\"color\":\"#EBF0F8\"},\"line\":{\"color\":\"white\"}},\"header\":{\"fill\":{\"color\":\"#C8D4E3\"},\"line\":{\"color\":\"white\"}},\"type\":\"table\"}]},\"layout\":{\"annotationdefaults\":{\"arrowcolor\":\"#2a3f5f\",\"arrowhead\":0,\"arrowwidth\":1},\"autotypenumbers\":\"strict\",\"coloraxis\":{\"colorbar\":{\"outlinewidth\":0,\"ticks\":\"\"}},\"colorscale\":{\"diverging\":[[0,\"#8e0152\"],[0.1,\"#c51b7d\"],[0.2,\"#de77ae\"],[0.3,\"#f1b6da\"],[0.4,\"#fde0ef\"],[0.5,\"#f7f7f7\"],[0.6,\"#e6f5d0\"],[0.7,\"#b8e186\"],[0.8,\"#7fbc41\"],[0.9,\"#4d9221\"],[1,\"#276419\"]],\"sequential\":[[0.0,\"#0d0887\"],[0.1111111111111111,\"#46039f\"],[0.2222222222222222,\"#7201a8\"],[0.3333333333333333,\"#9c179e\"],[0.4444444444444444,\"#bd3786\"],[0.5555555555555556,\"#d8576b\"],[0.6666666666666666,\"#ed7953\"],[0.7777777777777778,\"#fb9f3a\"],[0.8888888888888888,\"#fdca26\"],[1.0,\"#f0f921\"]],\"sequentialminus\":[[0.0,\"#0d0887\"],[0.1111111111111111,\"#46039f\"],[0.2222222222222222,\"#7201a8\"],[0.3333333333333333,\"#9c179e\"],[0.4444444444444444,\"#bd3786\"],[0.5555555555555556,\"#d8576b\"],[0.6666666666666666,\"#ed7953\"],[0.7777777777777778,\"#fb9f3a\"],[0.8888888888888888,\"#fdca26\"],[1.0,\"#f0f921\"]]},\"colorway\":[\"#636efa\",\"#EF553B\",\"#00cc96\",\"#ab63fa\",\"#FFA15A\",\"#19d3f3\",\"#FF6692\",\"#B6E880\",\"#FF97FF\",\"#FECB52\"],\"font\":{\"color\":\"#2a3f5f\"},\"geo\":{\"bgcolor\":\"white\",\"lakecolor\":\"white\",\"landcolor\":\"#E5ECF6\",\"showlakes\":true,\"showland\":true,\"subunitcolor\":\"white\"},\"hoverlabel\":{\"align\":\"left\"},\"hovermode\":\"closest\",\"mapbox\":{\"style\":\"light\"},\"paper_bgcolor\":\"white\",\"plot_bgcolor\":\"#E5ECF6\",\"polar\":{\"angularaxis\":{\"gridcolor\":\"white\",\"linecolor\":\"white\",\"ticks\":\"\"},\"bgcolor\":\"#E5ECF6\",\"radialaxis\":{\"gridcolor\":\"white\",\"linecolor\":\"white\",\"ticks\":\"\"}},\"scene\":{\"xaxis\":{\"backgroundcolor\":\"#E5ECF6\",\"gridcolor\":\"white\",\"gridwidth\":2,\"linecolor\":\"white\",\"showbackground\":true,\"ticks\":\"\",\"zerolinecolor\":\"white\"},\"yaxis\":{\"backgroundcolor\":\"#E5ECF6\",\"gridcolor\":\"white\",\"gridwidth\":2,\"linecolor\":\"white\",\"showbackground\":true,\"ticks\":\"\",\"zerolinecolor\":\"white\"},\"zaxis\":{\"backgroundcolor\":\"#E5ECF6\",\"gridcolor\":\"white\",\"gridwidth\":2,\"linecolor\":\"white\",\"showbackground\":true,\"ticks\":\"\",\"zerolinecolor\":\"white\"}},\"shapedefaults\":{\"line\":{\"color\":\"#2a3f5f\"}},\"ternary\":{\"aaxis\":{\"gridcolor\":\"white\",\"linecolor\":\"white\",\"ticks\":\"\"},\"baxis\":{\"gridcolor\":\"white\",\"linecolor\":\"white\",\"ticks\":\"\"},\"bgcolor\":\"#E5ECF6\",\"caxis\":{\"gridcolor\":\"white\",\"linecolor\":\"white\",\"ticks\":\"\"}},\"title\":{\"x\":0.05},\"xaxis\":{\"automargin\":true,\"gridcolor\":\"white\",\"linecolor\":\"white\",\"ticks\":\"\",\"title\":{\"standoff\":15},\"zerolinecolor\":\"white\",\"zerolinewidth\":2},\"yaxis\":{\"automargin\":true,\"gridcolor\":\"white\",\"linecolor\":\"white\",\"ticks\":\"\",\"title\":{\"standoff\":15},\"zerolinecolor\":\"white\",\"zerolinewidth\":2}}},\"polar\":{\"radialaxis\":{\"visible\":true,\"range\":[0,1]}},\"title\":{\"font\":{\"color\":\"blue\",\"size\":18},\"text\":\"Comparaison des moyennes par variable des clusters\",\"y\":0.95,\"x\":0.5,\"xanchor\":\"center\",\"yanchor\":\"top\"},\"showlegend\":true},                        {\"responsive\": true}                    ).then(function(){\n",
              "                            \n",
              "var gd = document.getElementById('97b1c610-bc94-4a0a-9f69-1784a4ad0455');\n",
              "var x = new MutationObserver(function (mutations, observer) {{\n",
              "        var display = window.getComputedStyle(gd).display;\n",
              "        if (!display || display === 'none') {{\n",
              "            console.log([gd, 'removed!']);\n",
              "            Plotly.purge(gd);\n",
              "            observer.disconnect();\n",
              "        }}\n",
              "}});\n",
              "\n",
              "// Listen for the removal of the full notebook cells\n",
              "var notebookContainer = gd.closest('#notebook-container');\n",
              "if (notebookContainer) {{\n",
              "    x.observe(notebookContainer, {childList: true});\n",
              "}}\n",
              "\n",
              "// Listen for the clearing of the current output cell\n",
              "var outputEl = gd.closest('.output');\n",
              "if (outputEl) {{\n",
              "    x.observe(outputEl, {childList: true});\n",
              "}}\n",
              "\n",
              "                        })                };                            </script>        </div>\n",
              "</body>\n",
              "</html>"
            ]
          },
          "metadata": {}
        }
      ]
    },
    {
      "cell_type": "markdown",
      "source": [
        "**Interpretation**"
      ],
      "metadata": {
        "id": "N8xYTIYLn5NJ"
      }
    },
    {
      "cell_type": "markdown",
      "source": [],
      "metadata": {
        "id": "EUGd5wman8KG"
      }
    }
  ]
}